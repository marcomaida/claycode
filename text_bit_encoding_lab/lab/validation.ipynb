{
 "cells": [
  {
   "cell_type": "markdown",
   "metadata": {},
   "source": [
    "# Text-Bit Encoding Validation\n",
    "\n",
    "In this notebook, we check that the text-bit encoding is working properly. \n",
    "\n",
    "First, we define some helper functions to test the encodings."
   ]
  },
  {
   "cell_type": "code",
   "execution_count": 1,
   "metadata": {},
   "outputs": [],
   "source": [
    "import sys; sys.path.append('../')\n",
    "from text_bit.dataset import read_datasets\n",
    "\n",
    "datasets = read_datasets(\"../datasets/\")\n",
    "\n",
    "# Given a dataset, a `text_to_bit`, and a `bit_to_text` function, \n",
    "# Tests that each string of the data set works when encoded and decoded.\n",
    "def expect_all_working(dataset, text_to_bit, bit_to_text):\n",
    "    for m in dataset:\n",
    "        try:\n",
    "            bits = text_to_bit(m)\n",
    "            assert bits is not None, f\"Is None: {m}\"\n",
    "            assert bit_to_text(bits) == m, f\"Does not match: {m}\"\n",
    "        except:\n",
    "            assert False, f\"Crashes: {m}\"\n",
    "\n",
    "# Given a dataset and a `text_to_bit` function, checks that each string\n",
    "# is not supported, i.e., the function must return `None`\n",
    "def expect_all_not_supported(dataset, text_to_bit):\n",
    "    for m in dataset:\n",
    "        try:\n",
    "            bits = text_to_bit(m)\n",
    "            assert bits is None, f\"Is not None: {m}\"\n",
    "        except:\n",
    "            assert False, f\"Crashes: {m}\"\n"
   ]
  },
  {
   "cell_type": "markdown",
   "metadata": {},
   "source": [
    "#### `Nat` Encoding\n",
    "\n",
    "`Nat` should only work on natural numbers without trailing zeroes."
   ]
  },
  {
   "cell_type": "code",
   "execution_count": 2,
   "metadata": {},
   "outputs": [],
   "source": [
    "from text_bit.encodings.nat_number import NatNumberEncoding as NNE\n",
    "\n",
    "expect_all_working(datasets[\"nat\"], NNE.text_to_bit, NNE.bit_to_text)\n",
    "expect_all_not_supported(datasets[\"not_nat\"], NNE.text_to_bit)\n",
    "expect_all_not_supported(datasets[\"url\"], NNE.text_to_bit)\n",
    "expect_all_not_supported(datasets[\"text\"], NNE.text_to_bit)"
   ]
  },
  {
   "cell_type": "code",
   "execution_count": 3,
   "metadata": {},
   "outputs": [
    {
     "name": "stdout",
     "output_type": "stream",
     "text": [
      "Testing all datasets to validate umbrella encoding...\n"
     ]
    }
   ],
   "source": [
    "from text_bit.encodings.umbrella import UmbrellaEncoding as UE\n",
    "\n",
    "print(\"Testing all datasets to validate umbrella encoding...\")\n",
    "for ds in datasets.values(): expect_all_working(ds, UE.text_to_bit, UE.bit_to_text)"
   ]
  },
  {
   "cell_type": "markdown",
   "metadata": {},
   "source": [
    "# CRC\n"
   ]
  },
  {
   "cell_type": "code",
   "execution_count": 4,
   "metadata": {},
   "outputs": [
    {
     "data": {
      "text/plain": [
       "01111001011010001100110011011010"
      ]
     },
     "execution_count": 4,
     "metadata": {},
     "output_type": "execute_result"
    }
   ],
   "source": [
    "from text_bit.bit_string import BitString\n",
    "from text_bit.crc import Crc\n",
    "\n",
    "bs = BitString(\"11111111\")\n",
    "crc = Crc(Crc.POLY32_IEEE, 32)\n",
    "crc.compute_crc(bs)\n",
    "\n",
    "# 0b11111111000000000000000000000000 expected, TODO FIX"
   ]
  },
  {
   "cell_type": "markdown",
   "metadata": {},
   "source": [
    "# Multimodal Encoding\n",
    "\n",
    "#### Prefix Code\n",
    "\n",
    "The _Prefix Code_ is the basic building block of a multimodal encoding. It uses a full binary tree with an element as leaf. \n",
    "\n",
    "A multimodal encoding uses a tree of encodings. \n",
    "\n",
    "The beginning of the message tells which encoding must be applied. E.g., consider a multimodal encoding that supports 3 encodings, A, B, and C. We can map the encoding to the following tree:\n",
    "\n",
    "```\n",
    "  .        If the message starts with...        \n",
    " / \\                     0... => Use encoding A \n",
    "A   .                    10...=> Use encoding B \n",
    "   / \\                   11...=> Use encoding C \n",
    "  B   C                                         \n",
    "```"
   ]
  },
  {
   "cell_type": "code",
   "execution_count": 5,
   "metadata": {},
   "outputs": [],
   "source": [
    "from text_bit.prefix_code import prefix_code_unit_test\n",
    "\n",
    "prefix_code_unit_test()"
   ]
  },
  {
   "cell_type": "markdown",
   "metadata": {},
   "source": [
    "#### Multimodal Encoding\n",
    "\n",
    "We now test that some multimodal encodings work"
   ]
  },
  {
   "cell_type": "code",
   "execution_count": 6,
   "metadata": {},
   "outputs": [],
   "source": [
    "from text_bit.encodings.umbrella import UmbrellaEncoding as UE\n",
    "from text_bit.encodings.nat_number import NatNumberEncoding as NNE\n",
    "from text_bit.multimodal_encoding import MultimodalEncoding"
   ]
  },
  {
   "cell_type": "code",
   "execution_count": 7,
   "metadata": {},
   "outputs": [],
   "source": [
    "from text_bit.encodings.umbrella import UmbrellaEncoding as UE\n",
    "from text_bit.encodings.nat_number import NatNumberEncoding as NNE\n",
    "from text_bit.multimodal_encoding import MultimodalEncoding\n",
    "\n",
    "# Basic multimodal encoding: just use umbrella\n",
    "me_umbrella = MultimodalEncoding(\"umbrella\", UE)\n",
    "for ds in datasets.values(): expect_all_working(ds, me_umbrella.text_to_bit, me_umbrella.bit_to_text)\n",
    "\n",
    "# Multimodal encoding with two encoding, nats and umbrella\n",
    "me_two = MultimodalEncoding(\"two\", [NNE, UE])\n",
    "for ds in datasets.values(): expect_all_working(ds, me_two.text_to_bit, me_two.bit_to_text)\n",
    "\n",
    "# More complex multimodal encoding, some reserved values\n",
    "me_none = MultimodalEncoding(\"complex\", [None, [None, [NNE, [None, UE]]]])\n",
    "for ds in datasets.values(): expect_all_working(ds, me_none.text_to_bit, me_none.bit_to_text)\n"
   ]
  }
 ],
 "metadata": {
  "kernelspec": {
   "display_name": "Python 3",
   "language": "python",
   "name": "python3"
  },
  "language_info": {
   "codemirror_mode": {
    "name": "ipython",
    "version": 3
   },
   "file_extension": ".py",
   "mimetype": "text/x-python",
   "name": "python",
   "nbconvert_exporter": "python",
   "pygments_lexer": "ipython3",
   "version": "3.11.2"
  }
 },
 "nbformat": 4,
 "nbformat_minor": 2
}
