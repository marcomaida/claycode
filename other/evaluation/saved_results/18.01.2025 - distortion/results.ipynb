{
 "cells": [
  {
   "cell_type": "markdown",
   "metadata": {},
   "source": [
    "# Claycode SIGGRAPH Evaluation"
   ]
  },
  {
   "cell_type": "code",
   "execution_count": 33,
   "metadata": {},
   "outputs": [],
   "source": [
    "import pandas as pd\n",
    "import numpy as np\n",
    "import plotly.graph_objects as go\n",
    "\n",
    "\n",
    "df = pd.read_csv('results.csv')\n",
    "\n",
    "df['type'] = df['filename'].str.split('-').map(lambda x: \"-\".join(x[:-1]).replace(\"_clay\", \"clay\"))\n",
    "df['square_area_perc'] = df['square_dimension_perc']**2\n",
    "\n",
    "df = df[['successful', 'square_area_perc', 'type']]\n",
    "\n",
    "# Turn the square side dimension into an area percentage\n",
    "grouped = df.groupby(['square_area_perc', 'type'])\n",
    "\n",
    "# Aggregate the 'successful' column\n",
    "df = grouped['successful'].agg(['sum', 'count']).reset_index()\n",
    "\n",
    "# Calculate success rate\n",
    "df['success_rate'] = df['sum'] / df['count']"
   ]
  },
  {
   "cell_type": "code",
   "execution_count": 34,
   "metadata": {},
   "outputs": [
    {
     "data": {
      "application/vnd.plotly.v1+json": {
       "config": {
        "plotlyServerURL": "https://plot.ly"
       },
       "data": [
        {
         "line": {
          "color": "#f5861a",
          "dash": "solid",
          "width": 2.3
         },
         "marker": {
          "opacity": 1,
          "size": 12,
          "symbol": "diamond"
         },
         "mode": "lines+markers",
         "name": "Styl. QR",
         "opacity": 1,
         "showlegend": true,
         "type": "scatter",
         "x": [
          0.010000000000000002,
          0.04000000000000001,
          0.09,
          0.16000000000000003,
          0.25
         ],
         "y": [
          0.45,
          0.15,
          0.05,
          0,
          0
         ]
        },
        {
         "line": {
          "color": "rgba(245,134,26, 0.2)",
          "dash": "dot",
          "width": 2.3
         },
         "marker": {
          "opacity": 0,
          "size": 0,
          "symbol": "diamond"
         },
         "mode": "lines+markers",
         "name": "Styl. QR",
         "opacity": 1,
         "showlegend": false,
         "type": "scatter",
         "x": [
          0.010000000000000002,
          0.04000000000000001,
          0.09,
          0.16000000000000003,
          0.25
         ],
         "y": [
          0.65,
          0.25,
          0.05,
          0,
          0
         ]
        },
        {
         "fill": "toself",
         "fillcolor": "rgba(255, 0, 0, 0.1)",
         "line": {
          "color": "rgba(0, 0, 0, 0)",
          "width": 2.3
         },
         "mode": "none",
         "opacity": 1,
         "showlegend": false,
         "type": "scatter",
         "x": [
          0.010000000000000002,
          0.04000000000000001,
          0.04000000000000001,
          0.010000000000000002
         ],
         "y": [
          0.45,
          0.15,
          0.25,
          0.65
         ]
        },
        {
         "fill": "toself",
         "fillcolor": "rgba(255, 0, 0, 0.1)",
         "line": {
          "color": "rgba(0, 0, 0, 0)",
          "width": 2.3
         },
         "mode": "none",
         "opacity": 1,
         "showlegend": false,
         "type": "scatter",
         "x": [
          0.04000000000000001,
          0.09,
          0.09,
          0.04000000000000001
         ],
         "y": [
          0.15,
          0.05,
          0.05,
          0.25
         ]
        },
        {
         "fill": "toself",
         "fillcolor": "rgba(0, 255, 0, 0.1)",
         "line": {
          "color": "rgba(0, 0, 0, 0)",
          "width": 2.3
         },
         "mode": "none",
         "opacity": 1,
         "showlegend": false,
         "type": "scatter",
         "x": [
          0.09,
          0.16000000000000003,
          0.16000000000000003,
          0.09
         ],
         "y": [
          0.05,
          0,
          0,
          0.05
         ]
        },
        {
         "fill": "toself",
         "fillcolor": "rgba(0, 255, 0, 0.1)",
         "line": {
          "color": "rgba(0, 0, 0, 0)",
          "width": 2.3
         },
         "mode": "none",
         "opacity": 1,
         "showlegend": false,
         "type": "scatter",
         "x": [
          0.16000000000000003,
          0.25,
          0.25,
          0.16000000000000003
         ],
         "y": [
          0,
          0,
          0,
          0
         ]
        },
        {
         "line": {
          "color": "#d95f02",
          "dash": "solid",
          "width": 2.3
         },
         "marker": {
          "opacity": 1,
          "size": 10.799999999999999,
          "symbol": "square"
         },
         "mode": "lines+markers",
         "name": "QR",
         "opacity": 1,
         "showlegend": true,
         "type": "scatter",
         "x": [
          0.010000000000000002,
          0.04000000000000001,
          0.09,
          0.16000000000000003,
          0.25
         ],
         "y": [
          0.85,
          0.55,
          0.1,
          0,
          0
         ]
        },
        {
         "line": {
          "color": "rgba(217,95,2, 0.2)",
          "dash": "dot",
          "width": 2.3
         },
         "marker": {
          "opacity": 0,
          "size": 0,
          "symbol": "square"
         },
         "mode": "lines+markers",
         "name": "QR",
         "opacity": 1,
         "showlegend": false,
         "type": "scatter",
         "x": [
          0.010000000000000002,
          0.04000000000000001,
          0.09,
          0.16000000000000003,
          0.25
         ],
         "y": [
          0.95,
          0.55,
          0.2,
          0,
          0
         ]
        },
        {
         "fill": "toself",
         "fillcolor": "rgba(255, 0, 0, 0.1)",
         "line": {
          "color": "rgba(0, 0, 0, 0)",
          "width": 2.3
         },
         "mode": "none",
         "opacity": 1,
         "showlegend": false,
         "type": "scatter",
         "x": [
          0.010000000000000002,
          0.04000000000000001,
          0.04000000000000001,
          0.010000000000000002
         ],
         "y": [
          0.85,
          0.55,
          0.55,
          0.95
         ]
        },
        {
         "fill": "toself",
         "fillcolor": "rgba(255, 0, 0, 0.1)",
         "line": {
          "color": "rgba(0, 0, 0, 0)",
          "width": 2.3
         },
         "mode": "none",
         "opacity": 1,
         "showlegend": false,
         "type": "scatter",
         "x": [
          0.04000000000000001,
          0.09,
          0.09,
          0.04000000000000001
         ],
         "y": [
          0.55,
          0.1,
          0.2,
          0.55
         ]
        },
        {
         "fill": "toself",
         "fillcolor": "rgba(255, 0, 0, 0.1)",
         "line": {
          "color": "rgba(0, 0, 0, 0)",
          "width": 2.3
         },
         "mode": "none",
         "opacity": 1,
         "showlegend": false,
         "type": "scatter",
         "x": [
          0.09,
          0.16000000000000003,
          0.16000000000000003,
          0.09
         ],
         "y": [
          0.1,
          0,
          0,
          0.2
         ]
        },
        {
         "fill": "toself",
         "fillcolor": "rgba(0, 255, 0, 0.1)",
         "line": {
          "color": "rgba(0, 0, 0, 0)",
          "width": 2.3
         },
         "mode": "none",
         "opacity": 1,
         "showlegend": false,
         "type": "scatter",
         "x": [
          0.16000000000000003,
          0.25,
          0.25,
          0.16000000000000003
         ],
         "y": [
          0,
          0,
          0,
          0
         ]
        },
        {
         "line": {
          "color": "#156b59",
          "dash": "solid",
          "width": 2.3
         },
         "marker": {
          "opacity": 1,
          "size": 9.6,
          "symbol": "circle"
         },
         "mode": "lines+markers",
         "name": "Claycode (R=1)",
         "opacity": 1,
         "showlegend": true,
         "type": "scatter",
         "x": [
          0.010000000000000002,
          0.04000000000000001,
          0.09,
          0.16000000000000003,
          0.25
         ],
         "y": [
          0,
          0,
          0,
          0,
          0
         ]
        },
        {
         "line": {
          "color": "rgba(21,107,89, 0.2)",
          "dash": "dot",
          "width": 2.3
         },
         "marker": {
          "opacity": 0,
          "size": 0,
          "symbol": "circle"
         },
         "mode": "lines+markers",
         "name": "Claycode (R=1)",
         "opacity": 1,
         "showlegend": false,
         "type": "scatter",
         "x": [
          0.010000000000000002,
          0.04000000000000001,
          0.09,
          0.16000000000000003,
          0.25
         ],
         "y": [
          0,
          0,
          0,
          0,
          0
         ]
        },
        {
         "fill": "toself",
         "fillcolor": "rgba(0, 255, 0, 0.1)",
         "line": {
          "color": "rgba(0, 0, 0, 0)",
          "width": 2.3
         },
         "mode": "none",
         "opacity": 1,
         "showlegend": false,
         "type": "scatter",
         "x": [
          0.010000000000000002,
          0.04000000000000001,
          0.04000000000000001,
          0.010000000000000002
         ],
         "y": [
          0,
          0,
          0,
          0
         ]
        },
        {
         "fill": "toself",
         "fillcolor": "rgba(0, 255, 0, 0.1)",
         "line": {
          "color": "rgba(0, 0, 0, 0)",
          "width": 2.3
         },
         "mode": "none",
         "opacity": 1,
         "showlegend": false,
         "type": "scatter",
         "x": [
          0.04000000000000001,
          0.09,
          0.09,
          0.04000000000000001
         ],
         "y": [
          0,
          0,
          0,
          0
         ]
        },
        {
         "fill": "toself",
         "fillcolor": "rgba(0, 255, 0, 0.1)",
         "line": {
          "color": "rgba(0, 0, 0, 0)",
          "width": 2.3
         },
         "mode": "none",
         "opacity": 1,
         "showlegend": false,
         "type": "scatter",
         "x": [
          0.09,
          0.16000000000000003,
          0.16000000000000003,
          0.09
         ],
         "y": [
          0,
          0,
          0,
          0
         ]
        },
        {
         "fill": "toself",
         "fillcolor": "rgba(0, 255, 0, 0.1)",
         "line": {
          "color": "rgba(0, 0, 0, 0)",
          "width": 2.3
         },
         "mode": "none",
         "opacity": 1,
         "showlegend": false,
         "type": "scatter",
         "x": [
          0.16000000000000003,
          0.25,
          0.25,
          0.16000000000000003
         ],
         "y": [
          0,
          0,
          0,
          0
         ]
        },
        {
         "line": {
          "color": "#298c73",
          "dash": "solid",
          "width": 2.3
         },
         "marker": {
          "opacity": 1,
          "size": 12,
          "symbol": "diamond-tall"
         },
         "mode": "lines+markers",
         "name": "Claycode (R=2)",
         "opacity": 1,
         "showlegend": true,
         "type": "scatter",
         "x": [
          0.010000000000000002,
          0.04000000000000001,
          0.09,
          0.16000000000000003,
          0.25
         ],
         "y": [
          0.9,
          0.65,
          0.3,
          0.2,
          0.05
         ]
        },
        {
         "line": {
          "color": "rgba(41,140,115, 0.2)",
          "dash": "dot",
          "width": 2.3
         },
         "marker": {
          "opacity": 0,
          "size": 12,
          "symbol": "diamond-tall"
         },
         "mode": "lines+markers",
         "name": "Claycode (R=2)",
         "opacity": 1,
         "showlegend": false,
         "type": "scatter",
         "x": [
          0.010000000000000002,
          0.04000000000000001,
          0.09,
          0.16000000000000003,
          0.25
         ],
         "y": [
          0.9,
          0.65,
          0.25,
          0.2,
          0.05
         ]
        },
        {
         "fill": "toself",
         "fillcolor": "rgba(0, 255, 0, 0.1)",
         "line": {
          "color": "rgba(0, 0, 0, 0)",
          "width": 2.3
         },
         "mode": "none",
         "opacity": 1,
         "showlegend": false,
         "type": "scatter",
         "x": [
          0.010000000000000002,
          0.04000000000000001,
          0.04000000000000001,
          0.010000000000000002
         ],
         "y": [
          0.9,
          0.65,
          0.65,
          0.9
         ]
        },
        {
         "fill": "toself",
         "fillcolor": "rgba(0, 255, 0, 0.1)",
         "line": {
          "color": "rgba(0, 0, 0, 0)",
          "width": 2.3
         },
         "mode": "none",
         "opacity": 1,
         "showlegend": false,
         "type": "scatter",
         "x": [
          0.04000000000000001,
          0.09,
          0.09,
          0.04000000000000001
         ],
         "y": [
          0.65,
          0.3,
          0.25,
          0.65
         ]
        },
        {
         "fill": "toself",
         "fillcolor": "rgba(0, 255, 0, 0.1)",
         "line": {
          "color": "rgba(0, 0, 0, 0)",
          "width": 2.3
         },
         "mode": "none",
         "opacity": 1,
         "showlegend": false,
         "type": "scatter",
         "x": [
          0.09,
          0.16000000000000003,
          0.16000000000000003,
          0.09
         ],
         "y": [
          0.3,
          0.2,
          0.2,
          0.25
         ]
        },
        {
         "fill": "toself",
         "fillcolor": "rgba(0, 255, 0, 0.1)",
         "line": {
          "color": "rgba(0, 0, 0, 0)",
          "width": 2.3
         },
         "mode": "none",
         "opacity": 1,
         "showlegend": false,
         "type": "scatter",
         "x": [
          0.16000000000000003,
          0.25,
          0.25,
          0.16000000000000003
         ],
         "y": [
          0.2,
          0.05,
          0.05,
          0.2
         ]
        },
        {
         "line": {
          "color": "#26a78a",
          "dash": "solid",
          "width": 2.3
         },
         "marker": {
          "opacity": 1,
          "size": 14.399999999999999,
          "symbol": "bowtie"
         },
         "mode": "lines+markers",
         "name": "Styl. Claycode (R=2)",
         "opacity": 1,
         "showlegend": true,
         "type": "scatter",
         "x": [
          0.010000000000000002,
          0.04000000000000001,
          0.09,
          0.16000000000000003,
          0.25
         ],
         "y": [
          0.95,
          0.75,
          0.4,
          0.2,
          0.05
         ]
        },
        {
         "line": {
          "color": "rgba(38,167,138, 0.2)",
          "dash": "dot",
          "width": 2.3
         },
         "marker": {
          "opacity": 0,
          "size": 0,
          "symbol": "bowtie"
         },
         "mode": "lines+markers",
         "name": "Styl. Claycode (R=2)",
         "opacity": 1,
         "showlegend": false,
         "type": "scatter",
         "x": [
          0.010000000000000002,
          0.04000000000000001,
          0.09,
          0.16000000000000003,
          0.25
         ],
         "y": [
          0.95,
          0.75,
          0.4,
          0.2,
          0.05
         ]
        },
        {
         "fill": "toself",
         "fillcolor": "rgba(0, 255, 0, 0.1)",
         "line": {
          "color": "rgba(0, 0, 0, 0)",
          "width": 2.3
         },
         "mode": "none",
         "opacity": 1,
         "showlegend": false,
         "type": "scatter",
         "x": [
          0.010000000000000002,
          0.04000000000000001,
          0.04000000000000001,
          0.010000000000000002
         ],
         "y": [
          0.95,
          0.75,
          0.75,
          0.95
         ]
        },
        {
         "fill": "toself",
         "fillcolor": "rgba(0, 255, 0, 0.1)",
         "line": {
          "color": "rgba(0, 0, 0, 0)",
          "width": 2.3
         },
         "mode": "none",
         "opacity": 1,
         "showlegend": false,
         "type": "scatter",
         "x": [
          0.04000000000000001,
          0.09,
          0.09,
          0.04000000000000001
         ],
         "y": [
          0.75,
          0.4,
          0.4,
          0.75
         ]
        },
        {
         "fill": "toself",
         "fillcolor": "rgba(0, 255, 0, 0.1)",
         "line": {
          "color": "rgba(0, 0, 0, 0)",
          "width": 2.3
         },
         "mode": "none",
         "opacity": 1,
         "showlegend": false,
         "type": "scatter",
         "x": [
          0.09,
          0.16000000000000003,
          0.16000000000000003,
          0.09
         ],
         "y": [
          0.4,
          0.2,
          0.2,
          0.4
         ]
        },
        {
         "fill": "toself",
         "fillcolor": "rgba(0, 255, 0, 0.1)",
         "line": {
          "color": "rgba(0, 0, 0, 0)",
          "width": 2.3
         },
         "mode": "none",
         "opacity": 1,
         "showlegend": false,
         "type": "scatter",
         "x": [
          0.16000000000000003,
          0.25,
          0.25,
          0.16000000000000003
         ],
         "y": [
          0.2,
          0.05,
          0.05,
          0.2
         ]
        },
        {
         "line": {
          "color": "#1160b8",
          "dash": "solid",
          "width": 2.3
         },
         "marker": {
          "opacity": 1,
          "size": 10.799999999999999,
          "symbol": "x"
         },
         "mode": "lines+markers",
         "name": "Barcode",
         "opacity": 1,
         "showlegend": true,
         "type": "scatter",
         "x": [
          0.010000000000000002,
          0.04000000000000001,
          0.09,
          0.16000000000000003,
          0.25
         ],
         "y": [
          1,
          1,
          1,
          1,
          1
         ]
        },
        {
         "line": {
          "color": "rgba(17,96,184, 0.2)",
          "dash": "dot",
          "width": 2.3
         },
         "marker": {
          "opacity": 0,
          "size": 0,
          "symbol": "x"
         },
         "mode": "lines+markers",
         "name": "Barcode",
         "opacity": 1,
         "showlegend": false,
         "type": "scatter",
         "x": [
          0.010000000000000002,
          0.04000000000000001,
          0.09,
          0.16000000000000003,
          0.25
         ],
         "y": [
          1,
          1,
          1,
          1,
          1
         ]
        },
        {
         "fill": "toself",
         "fillcolor": "rgba(0, 255, 0, 0.1)",
         "line": {
          "color": "rgba(0, 0, 0, 0)",
          "width": 2.3
         },
         "mode": "none",
         "opacity": 1,
         "showlegend": false,
         "type": "scatter",
         "x": [
          0.010000000000000002,
          0.04000000000000001,
          0.04000000000000001,
          0.010000000000000002
         ],
         "y": [
          1,
          1,
          1,
          1
         ]
        },
        {
         "fill": "toself",
         "fillcolor": "rgba(0, 255, 0, 0.1)",
         "line": {
          "color": "rgba(0, 0, 0, 0)",
          "width": 2.3
         },
         "mode": "none",
         "opacity": 1,
         "showlegend": false,
         "type": "scatter",
         "x": [
          0.04000000000000001,
          0.09,
          0.09,
          0.04000000000000001
         ],
         "y": [
          1,
          1,
          1,
          1
         ]
        },
        {
         "fill": "toself",
         "fillcolor": "rgba(0, 255, 0, 0.1)",
         "line": {
          "color": "rgba(0, 0, 0, 0)",
          "width": 2.3
         },
         "mode": "none",
         "opacity": 1,
         "showlegend": false,
         "type": "scatter",
         "x": [
          0.09,
          0.16000000000000003,
          0.16000000000000003,
          0.09
         ],
         "y": [
          1,
          1,
          1,
          1
         ]
        },
        {
         "fill": "toself",
         "fillcolor": "rgba(0, 255, 0, 0.1)",
         "line": {
          "color": "rgba(0, 0, 0, 0)",
          "width": 2.3
         },
         "mode": "none",
         "opacity": 1,
         "showlegend": false,
         "type": "scatter",
         "x": [
          0.16000000000000003,
          0.25,
          0.25,
          0.16000000000000003
         ],
         "y": [
          1,
          1,
          1,
          1
         ]
        }
       ],
       "layout": {
        "height": 328,
        "legend": {
         "bgcolor": "rgba(255, 255, 255, 0.7)",
         "bordercolor": "black",
         "borderwidth": 1,
         "x": 0.57,
         "xanchor": "left",
         "y": 0.9,
         "yanchor": "top"
        },
        "margin": {
         "b": 10,
         "l": 10,
         "r": 10,
         "t": 10
        },
        "template": {
         "data": {
          "bar": [
           {
            "error_x": {
             "color": "#2a3f5f"
            },
            "error_y": {
             "color": "#2a3f5f"
            },
            "marker": {
             "line": {
              "color": "#E5ECF6",
              "width": 0.5
             },
             "pattern": {
              "fillmode": "overlay",
              "size": 10,
              "solidity": 0.2
             }
            },
            "type": "bar"
           }
          ],
          "barpolar": [
           {
            "marker": {
             "line": {
              "color": "#E5ECF6",
              "width": 0.5
             },
             "pattern": {
              "fillmode": "overlay",
              "size": 10,
              "solidity": 0.2
             }
            },
            "type": "barpolar"
           }
          ],
          "carpet": [
           {
            "aaxis": {
             "endlinecolor": "#2a3f5f",
             "gridcolor": "white",
             "linecolor": "white",
             "minorgridcolor": "white",
             "startlinecolor": "#2a3f5f"
            },
            "baxis": {
             "endlinecolor": "#2a3f5f",
             "gridcolor": "white",
             "linecolor": "white",
             "minorgridcolor": "white",
             "startlinecolor": "#2a3f5f"
            },
            "type": "carpet"
           }
          ],
          "choropleth": [
           {
            "colorbar": {
             "outlinewidth": 0,
             "ticks": ""
            },
            "type": "choropleth"
           }
          ],
          "contour": [
           {
            "colorbar": {
             "outlinewidth": 0,
             "ticks": ""
            },
            "colorscale": [
             [
              0,
              "#0d0887"
             ],
             [
              0.1111111111111111,
              "#46039f"
             ],
             [
              0.2222222222222222,
              "#7201a8"
             ],
             [
              0.3333333333333333,
              "#9c179e"
             ],
             [
              0.4444444444444444,
              "#bd3786"
             ],
             [
              0.5555555555555556,
              "#d8576b"
             ],
             [
              0.6666666666666666,
              "#ed7953"
             ],
             [
              0.7777777777777778,
              "#fb9f3a"
             ],
             [
              0.8888888888888888,
              "#fdca26"
             ],
             [
              1,
              "#f0f921"
             ]
            ],
            "type": "contour"
           }
          ],
          "contourcarpet": [
           {
            "colorbar": {
             "outlinewidth": 0,
             "ticks": ""
            },
            "type": "contourcarpet"
           }
          ],
          "heatmap": [
           {
            "colorbar": {
             "outlinewidth": 0,
             "ticks": ""
            },
            "colorscale": [
             [
              0,
              "#0d0887"
             ],
             [
              0.1111111111111111,
              "#46039f"
             ],
             [
              0.2222222222222222,
              "#7201a8"
             ],
             [
              0.3333333333333333,
              "#9c179e"
             ],
             [
              0.4444444444444444,
              "#bd3786"
             ],
             [
              0.5555555555555556,
              "#d8576b"
             ],
             [
              0.6666666666666666,
              "#ed7953"
             ],
             [
              0.7777777777777778,
              "#fb9f3a"
             ],
             [
              0.8888888888888888,
              "#fdca26"
             ],
             [
              1,
              "#f0f921"
             ]
            ],
            "type": "heatmap"
           }
          ],
          "heatmapgl": [
           {
            "colorbar": {
             "outlinewidth": 0,
             "ticks": ""
            },
            "colorscale": [
             [
              0,
              "#0d0887"
             ],
             [
              0.1111111111111111,
              "#46039f"
             ],
             [
              0.2222222222222222,
              "#7201a8"
             ],
             [
              0.3333333333333333,
              "#9c179e"
             ],
             [
              0.4444444444444444,
              "#bd3786"
             ],
             [
              0.5555555555555556,
              "#d8576b"
             ],
             [
              0.6666666666666666,
              "#ed7953"
             ],
             [
              0.7777777777777778,
              "#fb9f3a"
             ],
             [
              0.8888888888888888,
              "#fdca26"
             ],
             [
              1,
              "#f0f921"
             ]
            ],
            "type": "heatmapgl"
           }
          ],
          "histogram": [
           {
            "marker": {
             "pattern": {
              "fillmode": "overlay",
              "size": 10,
              "solidity": 0.2
             }
            },
            "type": "histogram"
           }
          ],
          "histogram2d": [
           {
            "colorbar": {
             "outlinewidth": 0,
             "ticks": ""
            },
            "colorscale": [
             [
              0,
              "#0d0887"
             ],
             [
              0.1111111111111111,
              "#46039f"
             ],
             [
              0.2222222222222222,
              "#7201a8"
             ],
             [
              0.3333333333333333,
              "#9c179e"
             ],
             [
              0.4444444444444444,
              "#bd3786"
             ],
             [
              0.5555555555555556,
              "#d8576b"
             ],
             [
              0.6666666666666666,
              "#ed7953"
             ],
             [
              0.7777777777777778,
              "#fb9f3a"
             ],
             [
              0.8888888888888888,
              "#fdca26"
             ],
             [
              1,
              "#f0f921"
             ]
            ],
            "type": "histogram2d"
           }
          ],
          "histogram2dcontour": [
           {
            "colorbar": {
             "outlinewidth": 0,
             "ticks": ""
            },
            "colorscale": [
             [
              0,
              "#0d0887"
             ],
             [
              0.1111111111111111,
              "#46039f"
             ],
             [
              0.2222222222222222,
              "#7201a8"
             ],
             [
              0.3333333333333333,
              "#9c179e"
             ],
             [
              0.4444444444444444,
              "#bd3786"
             ],
             [
              0.5555555555555556,
              "#d8576b"
             ],
             [
              0.6666666666666666,
              "#ed7953"
             ],
             [
              0.7777777777777778,
              "#fb9f3a"
             ],
             [
              0.8888888888888888,
              "#fdca26"
             ],
             [
              1,
              "#f0f921"
             ]
            ],
            "type": "histogram2dcontour"
           }
          ],
          "mesh3d": [
           {
            "colorbar": {
             "outlinewidth": 0,
             "ticks": ""
            },
            "type": "mesh3d"
           }
          ],
          "parcoords": [
           {
            "line": {
             "colorbar": {
              "outlinewidth": 0,
              "ticks": ""
             }
            },
            "type": "parcoords"
           }
          ],
          "pie": [
           {
            "automargin": true,
            "type": "pie"
           }
          ],
          "scatter": [
           {
            "fillpattern": {
             "fillmode": "overlay",
             "size": 10,
             "solidity": 0.2
            },
            "type": "scatter"
           }
          ],
          "scatter3d": [
           {
            "line": {
             "colorbar": {
              "outlinewidth": 0,
              "ticks": ""
             }
            },
            "marker": {
             "colorbar": {
              "outlinewidth": 0,
              "ticks": ""
             }
            },
            "type": "scatter3d"
           }
          ],
          "scattercarpet": [
           {
            "marker": {
             "colorbar": {
              "outlinewidth": 0,
              "ticks": ""
             }
            },
            "type": "scattercarpet"
           }
          ],
          "scattergeo": [
           {
            "marker": {
             "colorbar": {
              "outlinewidth": 0,
              "ticks": ""
             }
            },
            "type": "scattergeo"
           }
          ],
          "scattergl": [
           {
            "marker": {
             "colorbar": {
              "outlinewidth": 0,
              "ticks": ""
             }
            },
            "type": "scattergl"
           }
          ],
          "scattermapbox": [
           {
            "marker": {
             "colorbar": {
              "outlinewidth": 0,
              "ticks": ""
             }
            },
            "type": "scattermapbox"
           }
          ],
          "scatterpolar": [
           {
            "marker": {
             "colorbar": {
              "outlinewidth": 0,
              "ticks": ""
             }
            },
            "type": "scatterpolar"
           }
          ],
          "scatterpolargl": [
           {
            "marker": {
             "colorbar": {
              "outlinewidth": 0,
              "ticks": ""
             }
            },
            "type": "scatterpolargl"
           }
          ],
          "scatterternary": [
           {
            "marker": {
             "colorbar": {
              "outlinewidth": 0,
              "ticks": ""
             }
            },
            "type": "scatterternary"
           }
          ],
          "surface": [
           {
            "colorbar": {
             "outlinewidth": 0,
             "ticks": ""
            },
            "colorscale": [
             [
              0,
              "#0d0887"
             ],
             [
              0.1111111111111111,
              "#46039f"
             ],
             [
              0.2222222222222222,
              "#7201a8"
             ],
             [
              0.3333333333333333,
              "#9c179e"
             ],
             [
              0.4444444444444444,
              "#bd3786"
             ],
             [
              0.5555555555555556,
              "#d8576b"
             ],
             [
              0.6666666666666666,
              "#ed7953"
             ],
             [
              0.7777777777777778,
              "#fb9f3a"
             ],
             [
              0.8888888888888888,
              "#fdca26"
             ],
             [
              1,
              "#f0f921"
             ]
            ],
            "type": "surface"
           }
          ],
          "table": [
           {
            "cells": {
             "fill": {
              "color": "#EBF0F8"
             },
             "line": {
              "color": "white"
             }
            },
            "header": {
             "fill": {
              "color": "#C8D4E3"
             },
             "line": {
              "color": "white"
             }
            },
            "type": "table"
           }
          ]
         },
         "layout": {
          "annotationdefaults": {
           "arrowcolor": "#2a3f5f",
           "arrowhead": 0,
           "arrowwidth": 1
          },
          "autotypenumbers": "strict",
          "coloraxis": {
           "colorbar": {
            "outlinewidth": 0,
            "ticks": ""
           }
          },
          "colorscale": {
           "diverging": [
            [
             0,
             "#8e0152"
            ],
            [
             0.1,
             "#c51b7d"
            ],
            [
             0.2,
             "#de77ae"
            ],
            [
             0.3,
             "#f1b6da"
            ],
            [
             0.4,
             "#fde0ef"
            ],
            [
             0.5,
             "#f7f7f7"
            ],
            [
             0.6,
             "#e6f5d0"
            ],
            [
             0.7,
             "#b8e186"
            ],
            [
             0.8,
             "#7fbc41"
            ],
            [
             0.9,
             "#4d9221"
            ],
            [
             1,
             "#276419"
            ]
           ],
           "sequential": [
            [
             0,
             "#0d0887"
            ],
            [
             0.1111111111111111,
             "#46039f"
            ],
            [
             0.2222222222222222,
             "#7201a8"
            ],
            [
             0.3333333333333333,
             "#9c179e"
            ],
            [
             0.4444444444444444,
             "#bd3786"
            ],
            [
             0.5555555555555556,
             "#d8576b"
            ],
            [
             0.6666666666666666,
             "#ed7953"
            ],
            [
             0.7777777777777778,
             "#fb9f3a"
            ],
            [
             0.8888888888888888,
             "#fdca26"
            ],
            [
             1,
             "#f0f921"
            ]
           ],
           "sequentialminus": [
            [
             0,
             "#0d0887"
            ],
            [
             0.1111111111111111,
             "#46039f"
            ],
            [
             0.2222222222222222,
             "#7201a8"
            ],
            [
             0.3333333333333333,
             "#9c179e"
            ],
            [
             0.4444444444444444,
             "#bd3786"
            ],
            [
             0.5555555555555556,
             "#d8576b"
            ],
            [
             0.6666666666666666,
             "#ed7953"
            ],
            [
             0.7777777777777778,
             "#fb9f3a"
            ],
            [
             0.8888888888888888,
             "#fdca26"
            ],
            [
             1,
             "#f0f921"
            ]
           ]
          },
          "colorway": [
           "#636efa",
           "#EF553B",
           "#00cc96",
           "#ab63fa",
           "#FFA15A",
           "#19d3f3",
           "#FF6692",
           "#B6E880",
           "#FF97FF",
           "#FECB52"
          ],
          "font": {
           "color": "#2a3f5f"
          },
          "geo": {
           "bgcolor": "white",
           "lakecolor": "white",
           "landcolor": "#E5ECF6",
           "showlakes": true,
           "showland": true,
           "subunitcolor": "white"
          },
          "hoverlabel": {
           "align": "left"
          },
          "hovermode": "closest",
          "mapbox": {
           "style": "light"
          },
          "paper_bgcolor": "white",
          "plot_bgcolor": "#E5ECF6",
          "polar": {
           "angularaxis": {
            "gridcolor": "white",
            "linecolor": "white",
            "ticks": ""
           },
           "bgcolor": "#E5ECF6",
           "radialaxis": {
            "gridcolor": "white",
            "linecolor": "white",
            "ticks": ""
           }
          },
          "scene": {
           "xaxis": {
            "backgroundcolor": "#E5ECF6",
            "gridcolor": "white",
            "gridwidth": 2,
            "linecolor": "white",
            "showbackground": true,
            "ticks": "",
            "zerolinecolor": "white"
           },
           "yaxis": {
            "backgroundcolor": "#E5ECF6",
            "gridcolor": "white",
            "gridwidth": 2,
            "linecolor": "white",
            "showbackground": true,
            "ticks": "",
            "zerolinecolor": "white"
           },
           "zaxis": {
            "backgroundcolor": "#E5ECF6",
            "gridcolor": "white",
            "gridwidth": 2,
            "linecolor": "white",
            "showbackground": true,
            "ticks": "",
            "zerolinecolor": "white"
           }
          },
          "shapedefaults": {
           "line": {
            "color": "#2a3f5f"
           }
          },
          "ternary": {
           "aaxis": {
            "gridcolor": "white",
            "linecolor": "white",
            "ticks": ""
           },
           "baxis": {
            "gridcolor": "white",
            "linecolor": "white",
            "ticks": ""
           },
           "bgcolor": "#E5ECF6",
           "caxis": {
            "gridcolor": "white",
            "linecolor": "white",
            "ticks": ""
           }
          },
          "title": {
           "x": 0.05
          },
          "xaxis": {
           "automargin": true,
           "gridcolor": "white",
           "linecolor": "white",
           "ticks": "",
           "title": {
            "standoff": 15
           },
           "zerolinecolor": "white",
           "zerolinewidth": 2
          },
          "yaxis": {
           "automargin": true,
           "gridcolor": "white",
           "linecolor": "white",
           "ticks": "",
           "title": {
            "standoff": 15
           },
           "zerolinecolor": "white",
           "zerolinewidth": 2
          }
         }
        },
        "width": 492,
        "xaxis": {
         "range": [
          0.001,
          0.26
         ],
         "tickformat": ".0%",
         "tickvals": [
          0.01,
          0.04,
          0.09,
          0.16,
          0.25
         ],
         "title": {
          "text": "Area Occluded (%)"
         }
        },
        "yaxis": {
         "range": [
          -0.05,
          1.05
         ],
         "tickformat": ".0%",
         "title": {}
        }
       }
      }
     },
     "metadata": {},
     "output_type": "display_data"
    }
   ],
   "source": [
    "def hex_to_rgb(hex_color):\n",
    "    \"\"\"Convert a hexadecimal color code to an RGB tuple.\"\"\"\n",
    "    hex_color = hex_color.lstrip('#')  # Remove the '#' if it exists\n",
    "    return tuple(int(hex_color[i:i+2], 16) for i in (0, 2, 4))\n",
    "\n",
    "\n",
    "# Define all pairs to display\n",
    "# Also defines display order\n",
    "pairs_to_display = [\n",
    "    ['qrart2', 'qrart'],\n",
    "    ['qr2', 'qr'],\n",
    "    ['claycode2', 'claycode'],\n",
    "    ['claycode2-fragment', 'claycode-fragment'],\n",
    "    ['claycodeart2', 'claycodeart'],\n",
    "    ['barcode2', 'barcode']\n",
    "]\n",
    "\n",
    "name_mapping = {\n",
    "    'claycode': 'Claycode (R=1)',\n",
    "    'claycode-fragment': 'Claycode (R=2)',\n",
    "    'qr': 'QR',\n",
    "    'qrart': 'Styl. QR',\n",
    "    'claycodeart': 'Styl. Claycode (R=2)',\n",
    "    'barcode': 'Barcode',\n",
    "    'claycode2': 'Claycode (R=1)',\n",
    "    'claycodeart2': 'Styl. Claycode (R=2)',\n",
    "    'claycode2-fragment': 'Claycode (R=2)',\n",
    "    'qr2': 'QR',\n",
    "    'qrart2': 'Styl. QR',\n",
    "    'barcode2': 'Barcode'\n",
    "}\n",
    "\n",
    "##################\n",
    "# Colors\n",
    "##################\n",
    "\n",
    "claycode_color_main = '#156b59'  \n",
    "claycode_color_variant2 = '#298c73'  \n",
    "claycode_color_variant1 = '#26a78a' \n",
    "qr_color_main = '#d95f02'  # Main shade for qr\n",
    "qr_color_variant = '#f5861a'  # orange for variant\n",
    "barcode_color = '#1160b8' \n",
    "\n",
    "color_scheme = {\n",
    "    'claycode': claycode_color_main, \n",
    "    'claycodeart': claycode_color_variant1, \n",
    "    'claycode-fragment': claycode_color_variant2, \n",
    "    'qr': qr_color_main, \n",
    "    'qrart': qr_color_variant, \n",
    "    'barcode': barcode_color,\n",
    "    'claycode2': claycode_color_main, \n",
    "    'claycodeart2': claycode_color_variant1, \n",
    "    'claycode2-fragment': claycode_color_variant2, \n",
    "    'qr2': qr_color_main, \n",
    "    'qrart2': qr_color_variant, \n",
    "    'barcode2': barcode_color\n",
    "}\n",
    "\n",
    "##################\n",
    "# Line dashes\n",
    "##################\n",
    "\n",
    "line_dash_map = {\n",
    "    'claycode': 'dot', \n",
    "    'claycodeart': 'dot', \n",
    "    'claycode-fragment': 'dot', \n",
    "    'qr': 'dot', \n",
    "    'qrart': 'dot', \n",
    "    'barcode': 'dot',\n",
    "    'claycode2': 'solid', \n",
    "    'claycodeart2': 'solid', \n",
    "    'claycode2-fragment': 'solid', \n",
    "    'qr2': 'solid', \n",
    "    'qrart2': 'solid', \n",
    "    'barcode2': 'solid'\n",
    "}\n",
    "\n",
    "##################\n",
    "# Marker styles\n",
    "##################\n",
    "\n",
    "marker_qr = 'square'\n",
    "marker_qrart = 'diamond'\n",
    "marker_claycode = 'circle'\n",
    "marker_claycodeart = 'bowtie'\n",
    "marker_claycode_fragment = 'diamond-tall'\n",
    "marker_barcode = 'x'\n",
    "\n",
    "marker_map = {\n",
    "    'qr': marker_qr,\n",
    "    'qrart': marker_qrart,\n",
    "    'claycode': marker_claycode,\n",
    "    'claycodeart': marker_claycodeart,\n",
    "    'barcode': marker_barcode,\n",
    "    'claycode-fragment': marker_claycode_fragment,\n",
    "    'claycode2': marker_claycode,\n",
    "    'claycodeart2': marker_claycodeart,\n",
    "    'claycode2-fragment': marker_claycode_fragment,\n",
    "    'qr2': marker_qr,\n",
    "    'qrart2': marker_qrart,\n",
    "    'barcode2': marker_barcode,\n",
    "}\n",
    "\n",
    "\n",
    "MULT = 1.2\n",
    "SIZE_QR = 9\n",
    "SIZE_QR_ART = 10\n",
    "SIZE_CLAYCODE = 8\n",
    "SIZE_CLAYCODE_ART = 12\n",
    "SIZE_CLAYCODE_FRAGMENT = 10\n",
    "SIZE_BARCODE = 9\n",
    "marker_size_map = {\n",
    "    'qr': 0,\n",
    "    'qrart': 0,\n",
    "    'claycode': 0,\n",
    "    'claycodeart': 0,\n",
    "    'barcode': 0,\n",
    "    'claycode-fragment': SIZE_CLAYCODE_FRAGMENT,\n",
    "    'claycode2': SIZE_CLAYCODE,\n",
    "    'claycodeart2': SIZE_CLAYCODE_ART,\n",
    "    'claycode2-fragment': SIZE_CLAYCODE_FRAGMENT,\n",
    "    'qr2': SIZE_QR,\n",
    "    'qrart2': SIZE_QR_ART,\n",
    "    'barcode2': SIZE_BARCODE,\n",
    "}\n",
    "marker_size_map = { key: value*MULT for key,value in marker_size_map.items() }\n",
    "\n",
    "##################\n",
    "# Trace size and opacity maps\n",
    "##################\n",
    "\n",
    "trace_opacity_map = {\n",
    "    'qr': 1.0,\n",
    "    'qrart': 1,\n",
    "    'claycode': 1,\n",
    "    'claycodeart': 1,\n",
    "    'barcode': 1.0,\n",
    "    'claycode-fragment':1 ,\n",
    "    'claycode2': 1,\n",
    "    'claycodeart2': 1,\n",
    "    'claycode2-fragment': 1,\n",
    "    'qr2': 1.0,\n",
    "    'qrart2': 1,\n",
    "    'barcode2': 1.0,\n",
    "}\n",
    "\n",
    "##################\n",
    "# Updated Plot\n",
    "##################\n",
    "\n",
    "fig = go.Figure()\n",
    "\n",
    "for pair in pairs_to_display:\n",
    "    # Get the data for both types in the pair\n",
    "    trace_1 = df[df['type'] == pair[0]]\n",
    "    trace_2 = df[df['type'] == pair[1]]\n",
    "    \n",
    "    fig.add_trace(go.Scatter(\n",
    "        x=trace_1['square_area_perc'], \n",
    "        y=trace_1['success_rate'], \n",
    "        mode='lines+markers', \n",
    "        name=name_mapping.get(pair[0].replace(\"2\", \"\"), pair[0]), \n",
    "        line=dict(\n",
    "            color=color_scheme.get(pair[0], '#000000'),\n",
    "            width=marker_size_map.get(pair[0], 10),\n",
    "            dash=line_dash_map.get(pair[0], 'solid')\n",
    "        ),\n",
    "        marker=dict(\n",
    "            symbol=marker_map.get(pair[0], 'circle'),\n",
    "            size=marker_size_map.get(pair[0], 10),\n",
    "            opacity=trace_opacity_map.get(pair[0], 1.0)\n",
    "        ),\n",
    "        showlegend=True\n",
    "    ))\n",
    "\n",
    "    fig.add_trace(go.Scatter(\n",
    "        x=trace_2['square_area_perc'], \n",
    "        y=trace_2['success_rate'], \n",
    "        mode='lines+markers', \n",
    "        name=name_mapping.get(pair[1], pair[1]),\n",
    "        line=dict(\n",
    "            color=f\"rgba({','.join(map(str, hex_to_rgb(color_scheme.get(pair[1], '#000000'))))}, 0.2)\",\n",
    "            dash=line_dash_map.get(pair[1], 'dot')\n",
    "        ),\n",
    "        marker=dict(\n",
    "            symbol=marker_map.get(pair[1], 'circle'),\n",
    "            size=marker_size_map.get(pair[1], 10),\n",
    "            opacity=0\n",
    "        ),\n",
    "        showlegend=False\n",
    "    ))\n",
    "\n",
    "    # Add shaded areas as before\n",
    "    for i in range(len(trace_1) - 1):\n",
    "        x_val_1 = trace_1['square_area_perc'].iloc[i]\n",
    "        x_val_2 = trace_1['square_area_perc'].iloc[i + 1]\n",
    "        \n",
    "        y_val_1_1 = trace_1['success_rate'].iloc[i]\n",
    "        y_val_2_1 = trace_2[trace_2['square_area_perc'] == x_val_1]['success_rate'].iloc[0]\n",
    "        \n",
    "        y_val_1_2 = trace_1['success_rate'].iloc[i + 1]\n",
    "        y_val_2_2 = trace_2[trace_2['square_area_perc'] == x_val_2]['success_rate'].iloc[0]\n",
    "        \n",
    "        fill_color = 'rgba(0, 255, 0, 0.1)' if y_val_2_1 <= y_val_1_1 and y_val_2_2 <= y_val_1_2 else 'rgba(255, 0, 0, 0.1)'\n",
    "        \n",
    "        fig.add_trace(go.Scatter(\n",
    "            x=[x_val_1, x_val_2, x_val_2, x_val_1], \n",
    "            y=[y_val_1_1, y_val_1_2, y_val_2_2, y_val_2_1],\n",
    "            fill='toself', fillcolor=fill_color, mode='none',\n",
    "            showlegend=False, line=dict(color='rgba(0, 0, 0, 0)')\n",
    "        ))\n",
    "\n",
    "FIG_MULT = 0.8\n",
    "fig.update_layout(\n",
    "    xaxis_title=\"Area Occluded (%)\",\n",
    "    height=410*FIG_MULT,\n",
    "    width=615*FIG_MULT,\n",
    "    margin=dict(t=10, b=10, l=10, r=10),\n",
    "    legend=dict(\n",
    "        x=0.57, \n",
    "        y=0.9, \n",
    "        xanchor='left', \n",
    "        yanchor='top',\n",
    "        bgcolor='rgba(255, 255, 255, 0.7)',\n",
    "        bordercolor='black', \n",
    "        borderwidth=1\n",
    "    )\n",
    ")\n",
    "\n",
    "fig.update_traces(opacity=1, line=dict(width=2.3))\n",
    "fig.update_yaxes(title=None)\n",
    "\n",
    "fig.update_xaxes(range=[0.001, 0.26], tickformat='.0%', tickvals=[.01, .04, .09, .16, .25])\n",
    "fig.update_yaxes(range=[-0.05, 1.05], tickformat='.0%')\n",
    "\n",
    "fig.write_image(\"occlusion-deformation.pdf\", format=\"pdf\", engine=\"kaleido\")\n",
    "fig.show()\n"
   ]
  }
 ],
 "metadata": {
  "kernelspec": {
   "display_name": ".venv",
   "language": "python",
   "name": "python3"
  },
  "language_info": {
   "codemirror_mode": {
    "name": "ipython",
    "version": 3
   },
   "file_extension": ".py",
   "mimetype": "text/x-python",
   "name": "python",
   "nbconvert_exporter": "python",
   "pygments_lexer": "ipython3",
   "version": "3.12.4"
  }
 },
 "nbformat": 4,
 "nbformat_minor": 2
}
