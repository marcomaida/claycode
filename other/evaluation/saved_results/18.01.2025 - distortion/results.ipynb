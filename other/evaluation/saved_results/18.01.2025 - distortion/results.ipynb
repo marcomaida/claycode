{
 "cells": [
  {
   "cell_type": "markdown",
   "metadata": {},
   "source": [
    "# Claycode SIGGRAPH Evaluation"
   ]
  },
  {
   "cell_type": "code",
   "execution_count": 14,
   "metadata": {},
   "outputs": [
    {
     "data": {
      "application/vnd.plotly.v1+json": {
       "config": {
        "plotlyServerURL": "https://plot.ly"
       },
       "data": [
        {
         "line": {
          "color": "#d95f02",
          "dash": "solid",
          "width": 2.3
         },
         "marker": {
          "opacity": 1,
          "size": 10,
          "symbol": "square-open"
         },
         "mode": "lines+markers",
         "name": "qr",
         "opacity": 0.7,
         "showlegend": true,
         "type": "scatter",
         "x": [
          0.1,
          0.2,
          0.3,
          0.4,
          0.5
         ],
         "y": [
          0.85,
          0.55,
          0.1,
          0,
          0
         ]
        },
        {
         "line": {
          "color": "rgba(217,95,2, 0.2)",
          "dash": "dot",
          "width": 2.3
         },
         "marker": {
          "opacity": 1,
          "size": 10,
          "symbol": "square-open"
         },
         "mode": "lines+markers",
         "name": "qr2",
         "opacity": 0.7,
         "showlegend": false,
         "type": "scatter",
         "x": [
          0.1,
          0.2,
          0.3,
          0.4,
          0.5
         ],
         "y": [
          0.95,
          0.55,
          0.2,
          0,
          0
         ]
        },
        {
         "fill": "toself",
         "fillcolor": "rgba(255, 0, 0, 0.1)",
         "line": {
          "color": "rgba(0, 0, 0, 0)",
          "width": 2.3
         },
         "mode": "none",
         "opacity": 0.7,
         "showlegend": false,
         "type": "scatter",
         "x": [
          0.1,
          0.2,
          0.2,
          0.1
         ],
         "y": [
          0.85,
          0.55,
          0.55,
          0.95
         ]
        },
        {
         "fill": "toself",
         "fillcolor": "rgba(255, 0, 0, 0.1)",
         "line": {
          "color": "rgba(0, 0, 0, 0)",
          "width": 2.3
         },
         "mode": "none",
         "opacity": 0.7,
         "showlegend": false,
         "type": "scatter",
         "x": [
          0.2,
          0.3,
          0.3,
          0.2
         ],
         "y": [
          0.55,
          0.1,
          0.2,
          0.55
         ]
        },
        {
         "fill": "toself",
         "fillcolor": "rgba(255, 0, 0, 0.1)",
         "line": {
          "color": "rgba(0, 0, 0, 0)",
          "width": 2.3
         },
         "mode": "none",
         "opacity": 0.7,
         "showlegend": false,
         "type": "scatter",
         "x": [
          0.3,
          0.4,
          0.4,
          0.3
         ],
         "y": [
          0.1,
          0,
          0,
          0.2
         ]
        },
        {
         "fill": "toself",
         "fillcolor": "rgba(0, 255, 0, 0.1)",
         "line": {
          "color": "rgba(0, 0, 0, 0)",
          "width": 2.3
         },
         "mode": "none",
         "opacity": 0.7,
         "showlegend": false,
         "type": "scatter",
         "x": [
          0.4,
          0.5,
          0.5,
          0.4
         ],
         "y": [
          0,
          0,
          0,
          0
         ]
        },
        {
         "line": {
          "color": "#d95f02",
          "dash": "solid",
          "width": 2.3
         },
         "marker": {
          "opacity": 1,
          "size": 10,
          "symbol": "square"
         },
         "mode": "lines+markers",
         "name": "qrart",
         "opacity": 0.7,
         "showlegend": true,
         "type": "scatter",
         "x": [
          0.1,
          0.2,
          0.3,
          0.4,
          0.5
         ],
         "y": [
          0.45,
          0.15,
          0.05,
          0,
          0
         ]
        },
        {
         "line": {
          "color": "rgba(217,95,2, 0.2)",
          "dash": "dot",
          "width": 2.3
         },
         "marker": {
          "opacity": 1,
          "size": 10,
          "symbol": "square"
         },
         "mode": "lines+markers",
         "name": "qrart2",
         "opacity": 0.7,
         "showlegend": false,
         "type": "scatter",
         "x": [
          0.1,
          0.2,
          0.3,
          0.4,
          0.5
         ],
         "y": [
          0.65,
          0.25,
          0.05,
          0,
          0
         ]
        },
        {
         "fill": "toself",
         "fillcolor": "rgba(255, 0, 0, 0.1)",
         "line": {
          "color": "rgba(0, 0, 0, 0)",
          "width": 2.3
         },
         "mode": "none",
         "opacity": 0.7,
         "showlegend": false,
         "type": "scatter",
         "x": [
          0.1,
          0.2,
          0.2,
          0.1
         ],
         "y": [
          0.45,
          0.15,
          0.25,
          0.65
         ]
        },
        {
         "fill": "toself",
         "fillcolor": "rgba(255, 0, 0, 0.1)",
         "line": {
          "color": "rgba(0, 0, 0, 0)",
          "width": 2.3
         },
         "mode": "none",
         "opacity": 0.7,
         "showlegend": false,
         "type": "scatter",
         "x": [
          0.2,
          0.3,
          0.3,
          0.2
         ],
         "y": [
          0.15,
          0.05,
          0.05,
          0.25
         ]
        },
        {
         "fill": "toself",
         "fillcolor": "rgba(0, 255, 0, 0.1)",
         "line": {
          "color": "rgba(0, 0, 0, 0)",
          "width": 2.3
         },
         "mode": "none",
         "opacity": 0.7,
         "showlegend": false,
         "type": "scatter",
         "x": [
          0.3,
          0.4,
          0.4,
          0.3
         ],
         "y": [
          0.05,
          0,
          0,
          0.05
         ]
        },
        {
         "fill": "toself",
         "fillcolor": "rgba(0, 255, 0, 0.1)",
         "line": {
          "color": "rgba(0, 0, 0, 0)",
          "width": 2.3
         },
         "mode": "none",
         "opacity": 0.7,
         "showlegend": false,
         "type": "scatter",
         "x": [
          0.4,
          0.5,
          0.5,
          0.4
         ],
         "y": [
          0,
          0,
          0,
          0
         ]
        },
        {
         "line": {
          "color": "#1b9e77",
          "dash": "solid",
          "width": 2.3
         },
         "marker": {
          "opacity": 1,
          "size": 10,
          "symbol": "hexagram-open"
         },
         "mode": "lines+markers",
         "name": "claycode",
         "opacity": 0.7,
         "showlegend": true,
         "type": "scatter",
         "x": [
          0.1,
          0.2,
          0.3,
          0.4,
          0.5
         ],
         "y": [
          0,
          0,
          0,
          0,
          0
         ]
        },
        {
         "line": {
          "color": "rgba(27,158,119, 0.2)",
          "dash": "dot",
          "width": 2.3
         },
         "marker": {
          "opacity": 1,
          "size": 10,
          "symbol": "hexagram-open"
         },
         "mode": "lines+markers",
         "name": "claycode2",
         "opacity": 0.7,
         "showlegend": false,
         "type": "scatter",
         "x": [
          0.1,
          0.2,
          0.3,
          0.4,
          0.5
         ],
         "y": [
          0,
          0,
          0,
          0,
          0
         ]
        },
        {
         "fill": "toself",
         "fillcolor": "rgba(0, 255, 0, 0.1)",
         "line": {
          "color": "rgba(0, 0, 0, 0)",
          "width": 2.3
         },
         "mode": "none",
         "opacity": 0.7,
         "showlegend": false,
         "type": "scatter",
         "x": [
          0.1,
          0.2,
          0.2,
          0.1
         ],
         "y": [
          0,
          0,
          0,
          0
         ]
        },
        {
         "fill": "toself",
         "fillcolor": "rgba(0, 255, 0, 0.1)",
         "line": {
          "color": "rgba(0, 0, 0, 0)",
          "width": 2.3
         },
         "mode": "none",
         "opacity": 0.7,
         "showlegend": false,
         "type": "scatter",
         "x": [
          0.2,
          0.3,
          0.3,
          0.2
         ],
         "y": [
          0,
          0,
          0,
          0
         ]
        },
        {
         "fill": "toself",
         "fillcolor": "rgba(0, 255, 0, 0.1)",
         "line": {
          "color": "rgba(0, 0, 0, 0)",
          "width": 2.3
         },
         "mode": "none",
         "opacity": 0.7,
         "showlegend": false,
         "type": "scatter",
         "x": [
          0.3,
          0.4,
          0.4,
          0.3
         ],
         "y": [
          0,
          0,
          0,
          0
         ]
        },
        {
         "fill": "toself",
         "fillcolor": "rgba(0, 255, 0, 0.1)",
         "line": {
          "color": "rgba(0, 0, 0, 0)",
          "width": 2.3
         },
         "mode": "none",
         "opacity": 0.7,
         "showlegend": false,
         "type": "scatter",
         "x": [
          0.4,
          0.5,
          0.5,
          0.4
         ],
         "y": [
          0,
          0,
          0,
          0
         ]
        },
        {
         "line": {
          "color": "#1b9e77",
          "dash": "solid",
          "width": 2.3
         },
         "marker": {
          "opacity": 1,
          "size": 10,
          "symbol": "hexagram-dot"
         },
         "mode": "lines+markers",
         "name": "claycodeart",
         "opacity": 0.7,
         "showlegend": true,
         "type": "scatter",
         "x": [
          0.1,
          0.2,
          0.3,
          0.4,
          0.5
         ],
         "y": [
          0.95,
          0.75,
          0.4,
          0.2,
          0.05
         ]
        },
        {
         "line": {
          "color": "rgba(27,158,119, 0.2)",
          "dash": "dot",
          "width": 2.3
         },
         "marker": {
          "opacity": 1,
          "size": 10,
          "symbol": "hexagram-dot"
         },
         "mode": "lines+markers",
         "name": "claycodeart2",
         "opacity": 0.7,
         "showlegend": false,
         "type": "scatter",
         "x": [
          0.1,
          0.2,
          0.3,
          0.4,
          0.5
         ],
         "y": [
          0.95,
          0.75,
          0.4,
          0.2,
          0.05
         ]
        },
        {
         "fill": "toself",
         "fillcolor": "rgba(0, 255, 0, 0.1)",
         "line": {
          "color": "rgba(0, 0, 0, 0)",
          "width": 2.3
         },
         "mode": "none",
         "opacity": 0.7,
         "showlegend": false,
         "type": "scatter",
         "x": [
          0.1,
          0.2,
          0.2,
          0.1
         ],
         "y": [
          0.95,
          0.75,
          0.75,
          0.95
         ]
        },
        {
         "fill": "toself",
         "fillcolor": "rgba(0, 255, 0, 0.1)",
         "line": {
          "color": "rgba(0, 0, 0, 0)",
          "width": 2.3
         },
         "mode": "none",
         "opacity": 0.7,
         "showlegend": false,
         "type": "scatter",
         "x": [
          0.2,
          0.3,
          0.3,
          0.2
         ],
         "y": [
          0.75,
          0.4,
          0.4,
          0.75
         ]
        },
        {
         "fill": "toself",
         "fillcolor": "rgba(0, 255, 0, 0.1)",
         "line": {
          "color": "rgba(0, 0, 0, 0)",
          "width": 2.3
         },
         "mode": "none",
         "opacity": 0.7,
         "showlegend": false,
         "type": "scatter",
         "x": [
          0.3,
          0.4,
          0.4,
          0.3
         ],
         "y": [
          0.4,
          0.2,
          0.2,
          0.4
         ]
        },
        {
         "fill": "toself",
         "fillcolor": "rgba(0, 255, 0, 0.1)",
         "line": {
          "color": "rgba(0, 0, 0, 0)",
          "width": 2.3
         },
         "mode": "none",
         "opacity": 0.7,
         "showlegend": false,
         "type": "scatter",
         "x": [
          0.4,
          0.5,
          0.5,
          0.4
         ],
         "y": [
          0.2,
          0.05,
          0.05,
          0.2
         ]
        },
        {
         "line": {
          "color": "#1b9e77",
          "dash": "solid",
          "width": 2.3
         },
         "marker": {
          "opacity": 1,
          "size": 10,
          "symbol": "star"
         },
         "mode": "lines+markers",
         "name": "claycode-fragment",
         "opacity": 0.7,
         "showlegend": true,
         "type": "scatter",
         "x": [
          0.1,
          0.2,
          0.3,
          0.4,
          0.5
         ],
         "y": [
          0.9,
          0.65,
          0.3,
          0.2,
          0.05
         ]
        },
        {
         "line": {
          "color": "rgba(27,158,119, 0.2)",
          "dash": "dot",
          "width": 2.3
         },
         "marker": {
          "opacity": 1,
          "size": 10,
          "symbol": "star"
         },
         "mode": "lines+markers",
         "name": "claycode2-fragment",
         "opacity": 0.7,
         "showlegend": false,
         "type": "scatter",
         "x": [
          0.1,
          0.2,
          0.3,
          0.4,
          0.5
         ],
         "y": [
          0.9,
          0.65,
          0.25,
          0.2,
          0.05
         ]
        },
        {
         "fill": "toself",
         "fillcolor": "rgba(0, 255, 0, 0.1)",
         "line": {
          "color": "rgba(0, 0, 0, 0)",
          "width": 2.3
         },
         "mode": "none",
         "opacity": 0.7,
         "showlegend": false,
         "type": "scatter",
         "x": [
          0.1,
          0.2,
          0.2,
          0.1
         ],
         "y": [
          0.9,
          0.65,
          0.65,
          0.9
         ]
        },
        {
         "fill": "toself",
         "fillcolor": "rgba(0, 255, 0, 0.1)",
         "line": {
          "color": "rgba(0, 0, 0, 0)",
          "width": 2.3
         },
         "mode": "none",
         "opacity": 0.7,
         "showlegend": false,
         "type": "scatter",
         "x": [
          0.2,
          0.3,
          0.3,
          0.2
         ],
         "y": [
          0.65,
          0.3,
          0.25,
          0.65
         ]
        },
        {
         "fill": "toself",
         "fillcolor": "rgba(0, 255, 0, 0.1)",
         "line": {
          "color": "rgba(0, 0, 0, 0)",
          "width": 2.3
         },
         "mode": "none",
         "opacity": 0.7,
         "showlegend": false,
         "type": "scatter",
         "x": [
          0.3,
          0.4,
          0.4,
          0.3
         ],
         "y": [
          0.3,
          0.2,
          0.2,
          0.25
         ]
        },
        {
         "fill": "toself",
         "fillcolor": "rgba(0, 255, 0, 0.1)",
         "line": {
          "color": "rgba(0, 0, 0, 0)",
          "width": 2.3
         },
         "mode": "none",
         "opacity": 0.7,
         "showlegend": false,
         "type": "scatter",
         "x": [
          0.4,
          0.5,
          0.5,
          0.4
         ],
         "y": [
          0.2,
          0.05,
          0.05,
          0.2
         ]
        },
        {
         "line": {
          "color": "#7570b3",
          "dash": "solid",
          "width": 2.3
         },
         "marker": {
          "opacity": 1,
          "size": 10,
          "symbol": "cross"
         },
         "mode": "lines+markers",
         "name": "barcode",
         "opacity": 0.7,
         "showlegend": true,
         "type": "scatter",
         "x": [
          0.1,
          0.2,
          0.3,
          0.4,
          0.5
         ],
         "y": [
          1,
          1,
          1,
          1,
          1
         ]
        },
        {
         "line": {
          "color": "rgba(117,112,179, 0.2)",
          "dash": "dot",
          "width": 2.3
         },
         "marker": {
          "opacity": 1,
          "size": 10,
          "symbol": "cross"
         },
         "mode": "lines+markers",
         "name": "barcode2",
         "opacity": 0.7,
         "showlegend": false,
         "type": "scatter",
         "x": [
          0.1,
          0.2,
          0.3,
          0.4,
          0.5
         ],
         "y": [
          1,
          1,
          1,
          1,
          1
         ]
        },
        {
         "fill": "toself",
         "fillcolor": "rgba(0, 255, 0, 0.1)",
         "line": {
          "color": "rgba(0, 0, 0, 0)",
          "width": 2.3
         },
         "mode": "none",
         "opacity": 0.7,
         "showlegend": false,
         "type": "scatter",
         "x": [
          0.1,
          0.2,
          0.2,
          0.1
         ],
         "y": [
          1,
          1,
          1,
          1
         ]
        },
        {
         "fill": "toself",
         "fillcolor": "rgba(0, 255, 0, 0.1)",
         "line": {
          "color": "rgba(0, 0, 0, 0)",
          "width": 2.3
         },
         "mode": "none",
         "opacity": 0.7,
         "showlegend": false,
         "type": "scatter",
         "x": [
          0.2,
          0.3,
          0.3,
          0.2
         ],
         "y": [
          1,
          1,
          1,
          1
         ]
        },
        {
         "fill": "toself",
         "fillcolor": "rgba(0, 255, 0, 0.1)",
         "line": {
          "color": "rgba(0, 0, 0, 0)",
          "width": 2.3
         },
         "mode": "none",
         "opacity": 0.7,
         "showlegend": false,
         "type": "scatter",
         "x": [
          0.3,
          0.4,
          0.4,
          0.3
         ],
         "y": [
          1,
          1,
          1,
          1
         ]
        },
        {
         "fill": "toself",
         "fillcolor": "rgba(0, 255, 0, 0.1)",
         "line": {
          "color": "rgba(0, 0, 0, 0)",
          "width": 2.3
         },
         "mode": "none",
         "opacity": 0.7,
         "showlegend": false,
         "type": "scatter",
         "x": [
          0.4,
          0.5,
          0.5,
          0.4
         ],
         "y": [
          1,
          1,
          1,
          1
         ]
        }
       ],
       "layout": {
        "height": 400,
        "legend": {
         "bgcolor": "rgba(255, 255, 255, 0.7)",
         "bordercolor": "black",
         "borderwidth": 1,
         "x": 0.7,
         "xanchor": "left",
         "y": 0.9,
         "yanchor": "top"
        },
        "margin": {
         "b": 50,
         "l": 50,
         "r": 50,
         "t": 30
        },
        "template": {
         "data": {
          "bar": [
           {
            "error_x": {
             "color": "#2a3f5f"
            },
            "error_y": {
             "color": "#2a3f5f"
            },
            "marker": {
             "line": {
              "color": "#E5ECF6",
              "width": 0.5
             },
             "pattern": {
              "fillmode": "overlay",
              "size": 10,
              "solidity": 0.2
             }
            },
            "type": "bar"
           }
          ],
          "barpolar": [
           {
            "marker": {
             "line": {
              "color": "#E5ECF6",
              "width": 0.5
             },
             "pattern": {
              "fillmode": "overlay",
              "size": 10,
              "solidity": 0.2
             }
            },
            "type": "barpolar"
           }
          ],
          "carpet": [
           {
            "aaxis": {
             "endlinecolor": "#2a3f5f",
             "gridcolor": "white",
             "linecolor": "white",
             "minorgridcolor": "white",
             "startlinecolor": "#2a3f5f"
            },
            "baxis": {
             "endlinecolor": "#2a3f5f",
             "gridcolor": "white",
             "linecolor": "white",
             "minorgridcolor": "white",
             "startlinecolor": "#2a3f5f"
            },
            "type": "carpet"
           }
          ],
          "choropleth": [
           {
            "colorbar": {
             "outlinewidth": 0,
             "ticks": ""
            },
            "type": "choropleth"
           }
          ],
          "contour": [
           {
            "colorbar": {
             "outlinewidth": 0,
             "ticks": ""
            },
            "colorscale": [
             [
              0,
              "#0d0887"
             ],
             [
              0.1111111111111111,
              "#46039f"
             ],
             [
              0.2222222222222222,
              "#7201a8"
             ],
             [
              0.3333333333333333,
              "#9c179e"
             ],
             [
              0.4444444444444444,
              "#bd3786"
             ],
             [
              0.5555555555555556,
              "#d8576b"
             ],
             [
              0.6666666666666666,
              "#ed7953"
             ],
             [
              0.7777777777777778,
              "#fb9f3a"
             ],
             [
              0.8888888888888888,
              "#fdca26"
             ],
             [
              1,
              "#f0f921"
             ]
            ],
            "type": "contour"
           }
          ],
          "contourcarpet": [
           {
            "colorbar": {
             "outlinewidth": 0,
             "ticks": ""
            },
            "type": "contourcarpet"
           }
          ],
          "heatmap": [
           {
            "colorbar": {
             "outlinewidth": 0,
             "ticks": ""
            },
            "colorscale": [
             [
              0,
              "#0d0887"
             ],
             [
              0.1111111111111111,
              "#46039f"
             ],
             [
              0.2222222222222222,
              "#7201a8"
             ],
             [
              0.3333333333333333,
              "#9c179e"
             ],
             [
              0.4444444444444444,
              "#bd3786"
             ],
             [
              0.5555555555555556,
              "#d8576b"
             ],
             [
              0.6666666666666666,
              "#ed7953"
             ],
             [
              0.7777777777777778,
              "#fb9f3a"
             ],
             [
              0.8888888888888888,
              "#fdca26"
             ],
             [
              1,
              "#f0f921"
             ]
            ],
            "type": "heatmap"
           }
          ],
          "heatmapgl": [
           {
            "colorbar": {
             "outlinewidth": 0,
             "ticks": ""
            },
            "colorscale": [
             [
              0,
              "#0d0887"
             ],
             [
              0.1111111111111111,
              "#46039f"
             ],
             [
              0.2222222222222222,
              "#7201a8"
             ],
             [
              0.3333333333333333,
              "#9c179e"
             ],
             [
              0.4444444444444444,
              "#bd3786"
             ],
             [
              0.5555555555555556,
              "#d8576b"
             ],
             [
              0.6666666666666666,
              "#ed7953"
             ],
             [
              0.7777777777777778,
              "#fb9f3a"
             ],
             [
              0.8888888888888888,
              "#fdca26"
             ],
             [
              1,
              "#f0f921"
             ]
            ],
            "type": "heatmapgl"
           }
          ],
          "histogram": [
           {
            "marker": {
             "pattern": {
              "fillmode": "overlay",
              "size": 10,
              "solidity": 0.2
             }
            },
            "type": "histogram"
           }
          ],
          "histogram2d": [
           {
            "colorbar": {
             "outlinewidth": 0,
             "ticks": ""
            },
            "colorscale": [
             [
              0,
              "#0d0887"
             ],
             [
              0.1111111111111111,
              "#46039f"
             ],
             [
              0.2222222222222222,
              "#7201a8"
             ],
             [
              0.3333333333333333,
              "#9c179e"
             ],
             [
              0.4444444444444444,
              "#bd3786"
             ],
             [
              0.5555555555555556,
              "#d8576b"
             ],
             [
              0.6666666666666666,
              "#ed7953"
             ],
             [
              0.7777777777777778,
              "#fb9f3a"
             ],
             [
              0.8888888888888888,
              "#fdca26"
             ],
             [
              1,
              "#f0f921"
             ]
            ],
            "type": "histogram2d"
           }
          ],
          "histogram2dcontour": [
           {
            "colorbar": {
             "outlinewidth": 0,
             "ticks": ""
            },
            "colorscale": [
             [
              0,
              "#0d0887"
             ],
             [
              0.1111111111111111,
              "#46039f"
             ],
             [
              0.2222222222222222,
              "#7201a8"
             ],
             [
              0.3333333333333333,
              "#9c179e"
             ],
             [
              0.4444444444444444,
              "#bd3786"
             ],
             [
              0.5555555555555556,
              "#d8576b"
             ],
             [
              0.6666666666666666,
              "#ed7953"
             ],
             [
              0.7777777777777778,
              "#fb9f3a"
             ],
             [
              0.8888888888888888,
              "#fdca26"
             ],
             [
              1,
              "#f0f921"
             ]
            ],
            "type": "histogram2dcontour"
           }
          ],
          "mesh3d": [
           {
            "colorbar": {
             "outlinewidth": 0,
             "ticks": ""
            },
            "type": "mesh3d"
           }
          ],
          "parcoords": [
           {
            "line": {
             "colorbar": {
              "outlinewidth": 0,
              "ticks": ""
             }
            },
            "type": "parcoords"
           }
          ],
          "pie": [
           {
            "automargin": true,
            "type": "pie"
           }
          ],
          "scatter": [
           {
            "fillpattern": {
             "fillmode": "overlay",
             "size": 10,
             "solidity": 0.2
            },
            "type": "scatter"
           }
          ],
          "scatter3d": [
           {
            "line": {
             "colorbar": {
              "outlinewidth": 0,
              "ticks": ""
             }
            },
            "marker": {
             "colorbar": {
              "outlinewidth": 0,
              "ticks": ""
             }
            },
            "type": "scatter3d"
           }
          ],
          "scattercarpet": [
           {
            "marker": {
             "colorbar": {
              "outlinewidth": 0,
              "ticks": ""
             }
            },
            "type": "scattercarpet"
           }
          ],
          "scattergeo": [
           {
            "marker": {
             "colorbar": {
              "outlinewidth": 0,
              "ticks": ""
             }
            },
            "type": "scattergeo"
           }
          ],
          "scattergl": [
           {
            "marker": {
             "colorbar": {
              "outlinewidth": 0,
              "ticks": ""
             }
            },
            "type": "scattergl"
           }
          ],
          "scattermapbox": [
           {
            "marker": {
             "colorbar": {
              "outlinewidth": 0,
              "ticks": ""
             }
            },
            "type": "scattermapbox"
           }
          ],
          "scatterpolar": [
           {
            "marker": {
             "colorbar": {
              "outlinewidth": 0,
              "ticks": ""
             }
            },
            "type": "scatterpolar"
           }
          ],
          "scatterpolargl": [
           {
            "marker": {
             "colorbar": {
              "outlinewidth": 0,
              "ticks": ""
             }
            },
            "type": "scatterpolargl"
           }
          ],
          "scatterternary": [
           {
            "marker": {
             "colorbar": {
              "outlinewidth": 0,
              "ticks": ""
             }
            },
            "type": "scatterternary"
           }
          ],
          "surface": [
           {
            "colorbar": {
             "outlinewidth": 0,
             "ticks": ""
            },
            "colorscale": [
             [
              0,
              "#0d0887"
             ],
             [
              0.1111111111111111,
              "#46039f"
             ],
             [
              0.2222222222222222,
              "#7201a8"
             ],
             [
              0.3333333333333333,
              "#9c179e"
             ],
             [
              0.4444444444444444,
              "#bd3786"
             ],
             [
              0.5555555555555556,
              "#d8576b"
             ],
             [
              0.6666666666666666,
              "#ed7953"
             ],
             [
              0.7777777777777778,
              "#fb9f3a"
             ],
             [
              0.8888888888888888,
              "#fdca26"
             ],
             [
              1,
              "#f0f921"
             ]
            ],
            "type": "surface"
           }
          ],
          "table": [
           {
            "cells": {
             "fill": {
              "color": "#EBF0F8"
             },
             "line": {
              "color": "white"
             }
            },
            "header": {
             "fill": {
              "color": "#C8D4E3"
             },
             "line": {
              "color": "white"
             }
            },
            "type": "table"
           }
          ]
         },
         "layout": {
          "annotationdefaults": {
           "arrowcolor": "#2a3f5f",
           "arrowhead": 0,
           "arrowwidth": 1
          },
          "autotypenumbers": "strict",
          "coloraxis": {
           "colorbar": {
            "outlinewidth": 0,
            "ticks": ""
           }
          },
          "colorscale": {
           "diverging": [
            [
             0,
             "#8e0152"
            ],
            [
             0.1,
             "#c51b7d"
            ],
            [
             0.2,
             "#de77ae"
            ],
            [
             0.3,
             "#f1b6da"
            ],
            [
             0.4,
             "#fde0ef"
            ],
            [
             0.5,
             "#f7f7f7"
            ],
            [
             0.6,
             "#e6f5d0"
            ],
            [
             0.7,
             "#b8e186"
            ],
            [
             0.8,
             "#7fbc41"
            ],
            [
             0.9,
             "#4d9221"
            ],
            [
             1,
             "#276419"
            ]
           ],
           "sequential": [
            [
             0,
             "#0d0887"
            ],
            [
             0.1111111111111111,
             "#46039f"
            ],
            [
             0.2222222222222222,
             "#7201a8"
            ],
            [
             0.3333333333333333,
             "#9c179e"
            ],
            [
             0.4444444444444444,
             "#bd3786"
            ],
            [
             0.5555555555555556,
             "#d8576b"
            ],
            [
             0.6666666666666666,
             "#ed7953"
            ],
            [
             0.7777777777777778,
             "#fb9f3a"
            ],
            [
             0.8888888888888888,
             "#fdca26"
            ],
            [
             1,
             "#f0f921"
            ]
           ],
           "sequentialminus": [
            [
             0,
             "#0d0887"
            ],
            [
             0.1111111111111111,
             "#46039f"
            ],
            [
             0.2222222222222222,
             "#7201a8"
            ],
            [
             0.3333333333333333,
             "#9c179e"
            ],
            [
             0.4444444444444444,
             "#bd3786"
            ],
            [
             0.5555555555555556,
             "#d8576b"
            ],
            [
             0.6666666666666666,
             "#ed7953"
            ],
            [
             0.7777777777777778,
             "#fb9f3a"
            ],
            [
             0.8888888888888888,
             "#fdca26"
            ],
            [
             1,
             "#f0f921"
            ]
           ]
          },
          "colorway": [
           "#636efa",
           "#EF553B",
           "#00cc96",
           "#ab63fa",
           "#FFA15A",
           "#19d3f3",
           "#FF6692",
           "#B6E880",
           "#FF97FF",
           "#FECB52"
          ],
          "font": {
           "color": "#2a3f5f"
          },
          "geo": {
           "bgcolor": "white",
           "lakecolor": "white",
           "landcolor": "#E5ECF6",
           "showlakes": true,
           "showland": true,
           "subunitcolor": "white"
          },
          "hoverlabel": {
           "align": "left"
          },
          "hovermode": "closest",
          "mapbox": {
           "style": "light"
          },
          "paper_bgcolor": "white",
          "plot_bgcolor": "#E5ECF6",
          "polar": {
           "angularaxis": {
            "gridcolor": "white",
            "linecolor": "white",
            "ticks": ""
           },
           "bgcolor": "#E5ECF6",
           "radialaxis": {
            "gridcolor": "white",
            "linecolor": "white",
            "ticks": ""
           }
          },
          "scene": {
           "xaxis": {
            "backgroundcolor": "#E5ECF6",
            "gridcolor": "white",
            "gridwidth": 2,
            "linecolor": "white",
            "showbackground": true,
            "ticks": "",
            "zerolinecolor": "white"
           },
           "yaxis": {
            "backgroundcolor": "#E5ECF6",
            "gridcolor": "white",
            "gridwidth": 2,
            "linecolor": "white",
            "showbackground": true,
            "ticks": "",
            "zerolinecolor": "white"
           },
           "zaxis": {
            "backgroundcolor": "#E5ECF6",
            "gridcolor": "white",
            "gridwidth": 2,
            "linecolor": "white",
            "showbackground": true,
            "ticks": "",
            "zerolinecolor": "white"
           }
          },
          "shapedefaults": {
           "line": {
            "color": "#2a3f5f"
           }
          },
          "ternary": {
           "aaxis": {
            "gridcolor": "white",
            "linecolor": "white",
            "ticks": ""
           },
           "baxis": {
            "gridcolor": "white",
            "linecolor": "white",
            "ticks": ""
           },
           "bgcolor": "#E5ECF6",
           "caxis": {
            "gridcolor": "white",
            "linecolor": "white",
            "ticks": ""
           }
          },
          "title": {
           "x": 0.05
          },
          "xaxis": {
           "automargin": true,
           "gridcolor": "white",
           "linecolor": "white",
           "ticks": "",
           "title": {
            "standoff": 15
           },
           "zerolinecolor": "white",
           "zerolinewidth": 2
          },
          "yaxis": {
           "automargin": true,
           "gridcolor": "white",
           "linecolor": "white",
           "ticks": "",
           "title": {
            "standoff": 15
           },
           "zerolinecolor": "white",
           "zerolinewidth": 2
          }
         }
        },
        "width": 700,
        "xaxis": {
         "range": [
          0.09,
          0.52
         ],
         "tickformat": ".0%",
         "title": {
          "text": "Square side dimension (%)"
         }
        },
        "yaxis": {
         "range": [
          -0.05,
          1.05
         ],
         "tickformat": ".0%",
         "title": {
          "text": "Success rate (%)"
         }
        }
       }
      }
     },
     "metadata": {},
     "output_type": "display_data"
    }
   ],
   "source": [
    "import pandas as pd\n",
    "import plotly.graph_objects as go\n",
    "\n",
    "# Read the CSV data\n",
    "df = pd.read_csv('results.csv')\n",
    "\n",
    "# Create the 'type' column from the 'filename' column\n",
    "df['type'] = df['filename'].str.split('-').map(lambda x: \"-\".join(x[:-1]).replace(\"_clay\", \"clay\"))\n",
    "\n",
    "\"\"\"\n",
    "df['type'] = df['type'].replace({'claycode': 'Claycode (R=1)',\n",
    "                                 'claycode-fragment': 'Claycode (R=2)',\n",
    "                                 'qr': 'QR',\n",
    "                                 'qrart': 'Styl. QR',\n",
    "                                 'claycodeart': 'Styl. Claycode (R=1)',\n",
    "                                 'barcode': 'Barcode'\n",
    "                                 })\"\"\"\n",
    "# Filter the relevant columns\n",
    "df = df[['successful', 'square_dimension_perc', 'type']]\n",
    "\n",
    "# Group the data by 'square_dimension_perc' and 'type'\n",
    "grouped = df.groupby(['square_dimension_perc', 'type'])\n",
    "\n",
    "# Aggregate the 'successful' column\n",
    "df = grouped['successful'].agg(['sum', 'count']).reset_index()\n",
    "\n",
    "# Calculate success rate\n",
    "df['success_rate'] = df['sum'] / df['count']\n",
    "\n",
    "\n",
    "# Define all pairs to display\n",
    "pairs_to_display = [\n",
    "    ['qr2', 'qr'],\n",
    "    ['qrart2', 'qrart'],\n",
    "    ['claycode2', 'claycode'],\n",
    "    ['claycodeart2', 'claycodeart'],\n",
    "    ['claycode2-fragment', 'claycode-fragment'],\n",
    "    ['barcode2', 'barcode']\n",
    "]\n",
    "\n",
    "# Define color scheme\n",
    "color_scheme = {\n",
    "    'claycode': '#1b9e77', \n",
    "    'claycodeart': '#1b9e77', \n",
    "    'claycode-fragment': '#1b9e77', \n",
    "    'qr': '#d95f02', \n",
    "    'qrart': '#d95f02', \n",
    "    'barcode': '#7570b3',\n",
    "    'claycode2': '#1b9e77', \n",
    "    'claycodeart2': '#1b9e77', \n",
    "    'claycode2-fragment': '#1b9e77', \n",
    "    'qr2': '#d95f02', \n",
    "    'qrart2': '#d95f02', \n",
    "    'barcode2': '#7570b3'\n",
    "}\n",
    "\n",
    "# Define line dash style (solid for normal, dashed for \"art\"/\"fragment\")\n",
    "line_dash_map = {\n",
    "    'claycode': 'dot', \n",
    "    'claycodeart': 'dot', \n",
    "    'claycode-fragment': 'dot', \n",
    "    'qr': 'dot', \n",
    "    'qrart': 'dot', \n",
    "    'barcode': 'dot',\n",
    "    'claycode2': 'solid', \n",
    "    'claycodeart2': 'solid', \n",
    "    'claycode2-fragment': 'solid', \n",
    "    'qr2': 'solid', \n",
    "    'qrart2': 'solid', \n",
    "    'barcode2': 'solid'\n",
    "}\n",
    "\n",
    "# Define marker symbols for different types\n",
    "marker_map = {\n",
    "    'qr': 'square-open',\n",
    "    'qrart': 'square',\n",
    "    'claycode': 'hexagram-open',\n",
    "    'claycodeart': 'hexagram-dot',\n",
    "    'barcode': 'cross',\n",
    "    'claycode-fragment': 'star',\n",
    "    'claycode2': 'hexagram-open',\n",
    "    'claycodeart2': 'hexagram-dot',\n",
    "    'claycode2-fragment': 'star',\n",
    "    'qr2': 'square-open',\n",
    "    'qrart2': 'square',\n",
    "    'barcode2': 'cross',\n",
    "}\n",
    "\n",
    "# Create the figure\n",
    "fig = go.Figure()\n",
    "\n",
    "def hex_to_rgb(hex_color):\n",
    "    # Remove the hash if it exists\n",
    "    hex_color = hex_color.lstrip('#')\n",
    "    # Convert hex to RGB\n",
    "    rgb = tuple(int(hex_color[i:i+2], 16) for i in (0, 2, 4))\n",
    "    return rgb\n",
    "\n",
    "\n",
    "for pair in pairs_to_display:\n",
    "    # Get the data for both types in the pair\n",
    "    trace_1 = df[df['type'] == pair[0]]\n",
    "    trace_2 = df[df['type'] == pair[1]]\n",
    "    \n",
    "    # Add line traces for both types in the pair\n",
    "    fig.add_trace(go.Scatter(x=trace_1['square_dimension_perc'], y=trace_1['success_rate'], \n",
    "                             mode='lines+markers', name=pair[0].replace(\"2\", \"\"), \n",
    "                             line=dict(color=color_scheme.get(pair[0], '#000000'),\n",
    "                                       dash=line_dash_map.get(pair[0], 'solid')),\n",
    "                             marker=dict(symbol=marker_map.get(pair[0], 'circle')),\n",
    "                             showlegend=True))\n",
    "\n",
    "    # Only add trace_2 to the plot but don't show it in the legend\n",
    "    fig.add_trace(go.Scatter(x=trace_2['square_dimension_perc'], y=trace_2['success_rate'], \n",
    "                             mode='lines+markers', name=pair[0],\n",
    "                             line=dict(color=f\"rgba({','.join(map(str, hex_to_rgb(color_scheme.get(pair[1], '#000000'))))}, 0.2)\",\n",
    "                                       dash=line_dash_map.get(pair[1], 'dot')),\n",
    "                             marker=dict(symbol=marker_map.get(pair[1], 'circle')),\n",
    "                             opacity=0.1,\n",
    "                             showlegend=False))  # Disable showing this in the legend\n",
    "\n",
    "    # Loop through each point and create areas with green or red color based on the condition\n",
    "    for i in range(len(trace_1) - 1):\n",
    "        x_val_1 = trace_1['square_dimension_perc'].iloc[i]\n",
    "        x_val_2 = trace_1['square_dimension_perc'].iloc[i + 1]\n",
    "        \n",
    "        # Align the success rate values between trace_1 and trace_2 for x_val_1 and x_val_2\n",
    "        y_val_1_1 = trace_1['success_rate'].iloc[i]\n",
    "        y_val_2_1 = trace_2[trace_2['square_dimension_perc'] == x_val_1]['success_rate'].iloc[0]\n",
    "        \n",
    "        y_val_1_2 = trace_1['success_rate'].iloc[i + 1]\n",
    "        y_val_2_2 = trace_2[trace_2['square_dimension_perc'] == x_val_2]['success_rate'].iloc[0]\n",
    "        \n",
    "        # Ensure both traces' y-values are taken for each x-value, then calculate the fill color\n",
    "        fill_color = 'rgba(0, 255, 0, 0.1)' if y_val_2_1 <= y_val_1_1 and y_val_2_2 <= y_val_1_2 else 'rgba(255, 0, 0, 0.1)'\n",
    "        \n",
    "        # Add the shaded area for this segment (the area between the two traces)\n",
    "        fig.add_trace(go.Scatter(\n",
    "            x=[x_val_1, x_val_2, x_val_2, x_val_1], \n",
    "            y=[y_val_1_1, y_val_1_2, y_val_2_2, y_val_2_1],\n",
    "            fill='toself', fillcolor=fill_color, mode='none',\n",
    "            showlegend=False, line=dict(color='rgba(0, 0, 0, 0)')\n",
    "        ))\n",
    "\n",
    "fig.update_layout(\n",
    "    xaxis_title=\"Square side dimension (%)\",\n",
    "    yaxis_title=\"Success rate (%)\",\n",
    "    height=400,\n",
    "    width=700,\n",
    "    margin=dict(t=30, b=50, l=50, r=50),  # Adjust margins\n",
    "    legend=dict(\n",
    "        x=0.7,  # Set x position inside the plot (adjust as needed)\n",
    "        y=0.9,  # Set y position inside the plot (adjust as needed)\n",
    "        xanchor='left',  # Anchor to the left of the legend box\n",
    "        yanchor='top',   # Anchor to the top of the legend box\n",
    "        bgcolor='rgba(255, 255, 255, 0.7)',\n",
    "        bordercolor='black',  # Optional: border color for the legend box\n",
    "        borderwidth=1  # Corrected: Set border width for the legend box\n",
    "    )\n",
    ")\n",
    "\n",
    "# Make lines semi-transparent and thicker\n",
    "fig.update_traces(opacity=0.7, line=dict(width=2.3))\n",
    "\n",
    "# Bring markers to the foreground (higher zorder than the lines)\n",
    "fig.update_traces(marker=dict(size=10, opacity=1), selector=dict(mode='lines+markers'))\n",
    "\n",
    "# Update x and y axes to go from 0% to 100%, slightly adjusted to avoid cutting off\n",
    "fig.update_xaxes(range=[0.09,0.52], tickformat='.0%')\n",
    "fig.update_yaxes(range=[-0.05, 1.05], tickformat='.0%')\n",
    "\n",
    "fig.write_image(\"square-and-sinusoidal.pdf\", format=\"pdf\", engine=\"kaleido\")\n",
    "fig.show()"
   ]
  }
 ],
 "metadata": {
  "kernelspec": {
   "display_name": "Python 3",
   "language": "python",
   "name": "python3"
  },
  "language_info": {
   "codemirror_mode": {
    "name": "ipython",
    "version": 3
   },
   "file_extension": ".py",
   "mimetype": "text/x-python",
   "name": "python",
   "nbconvert_exporter": "python",
   "pygments_lexer": "ipython3",
   "version": "3.13.1"
  }
 },
 "nbformat": 4,
 "nbformat_minor": 2
}
