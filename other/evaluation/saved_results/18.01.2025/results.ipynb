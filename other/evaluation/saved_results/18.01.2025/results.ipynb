{
 "cells": [
  {
   "cell_type": "markdown",
   "metadata": {},
   "source": [
    "# Claycode SIGGRAPH Evaluation"
   ]
  },
  {
   "cell_type": "code",
   "execution_count": 85,
   "metadata": {},
   "outputs": [],
   "source": [
    "import pandas as pd\n",
    "import numpy as np\n",
    "import plotly.graph_objects as go\n",
    "\n",
    "\n",
    "df = pd.read_csv('results.csv')\n",
    "\n",
    "df['type'] = df['filename'].str.split('-').map(lambda x: \"-\".join(x[:-1]).replace(\"_clay\", \"clay\"))\n",
    "df['square_area_perc'] = df['square_dimension_perc']**2\n",
    "\n",
    "df = df[['successful', 'square_area_perc', 'type']]\n",
    "\n",
    "# Turn the square side dimension into an area percentage\n",
    "grouped = df.groupby(['square_area_perc', 'type'])\n",
    "\n",
    "# Aggregate the 'successful' column\n",
    "df = grouped['successful'].agg(['sum', 'count']).reset_index()\n",
    "\n",
    "# Calculate success rate\n",
    "df['success_rate'] = df['sum'] / df['count']"
   ]
  },
  {
   "cell_type": "code",
   "execution_count": 86,
   "metadata": {},
   "outputs": [
    {
     "data": {
      "application/vnd.plotly.v1+json": {
       "config": {
        "plotlyServerURL": "https://plot.ly"
       },
       "data": [
        {
         "line": {
          "color": "#f5861a",
          "width": 2.3
         },
         "marker": {
          "size": 12.100000000000001,
          "symbol": "diamond"
         },
         "mode": "lines+markers",
         "name": "Styl. QR",
         "opacity": 1,
         "type": "scatter",
         "x": [
          0.010000000000000002,
          0.04000000000000001,
          0.09,
          0.16000000000000003,
          0.25
         ],
         "y": [
          0.65,
          0.25,
          0.05,
          0,
          0
         ]
        },
        {
         "line": {
          "color": "#d95f02",
          "width": 2.3
         },
         "marker": {
          "size": 9.9,
          "symbol": "square"
         },
         "mode": "lines+markers",
         "name": "QR",
         "opacity": 1,
         "type": "scatter",
         "x": [
          0.010000000000000002,
          0.04000000000000001,
          0.09,
          0.16000000000000003,
          0.25
         ],
         "y": [
          0.95,
          0.55,
          0.2,
          0,
          0
         ]
        },
        {
         "line": {
          "color": "#26a78a",
          "width": 2.3
         },
         "marker": {
          "size": 13.200000000000001,
          "symbol": "bowtie"
         },
         "mode": "lines+markers",
         "name": "Styl. Claycode (R=2)",
         "opacity": 1,
         "type": "scatter",
         "x": [
          0.010000000000000002,
          0.04000000000000001,
          0.09,
          0.16000000000000003,
          0.25
         ],
         "y": [
          0.95,
          0.75,
          0.4,
          0.2,
          0.05
         ]
        },
        {
         "line": {
          "color": "#156b59",
          "width": 2.3
         },
         "marker": {
          "size": 8.8,
          "symbol": "circle"
         },
         "mode": "lines+markers",
         "name": "Claycode (R=1)",
         "opacity": 1,
         "type": "scatter",
         "x": [
          0.010000000000000002,
          0.04000000000000001,
          0.09,
          0.16000000000000003,
          0.25
         ],
         "y": [
          0,
          0,
          0,
          0,
          0
         ]
        },
        {
         "line": {
          "color": "#298c73",
          "width": 2.3
         },
         "marker": {
          "size": 11,
          "symbol": "diamond-tall"
         },
         "mode": "lines+markers",
         "name": "Claycode (R=2)",
         "opacity": 1,
         "type": "scatter",
         "x": [
          0.010000000000000002,
          0.04000000000000001,
          0.09,
          0.16000000000000003,
          0.25
         ],
         "y": [
          0.9,
          0.65,
          0.25,
          0.2,
          0.05
         ]
        },
        {
         "line": {
          "color": "#1160b8",
          "width": 2.3
         },
         "marker": {
          "size": 9.9,
          "symbol": "x"
         },
         "mode": "lines+markers",
         "name": "Barcode",
         "opacity": 1,
         "type": "scatter",
         "x": [
          0.010000000000000002,
          0.04000000000000001,
          0.09,
          0.16000000000000003,
          0.25
         ],
         "y": [
          1,
          1,
          1,
          1,
          1
         ]
        }
       ],
       "layout": {
        "height": 328,
        "margin": {
         "b": 10,
         "l": 10,
         "r": 7,
         "t": 10
        },
        "showlegend": false,
        "template": {
         "data": {
          "bar": [
           {
            "error_x": {
             "color": "#2a3f5f"
            },
            "error_y": {
             "color": "#2a3f5f"
            },
            "marker": {
             "line": {
              "color": "#E5ECF6",
              "width": 0.5
             },
             "pattern": {
              "fillmode": "overlay",
              "size": 10,
              "solidity": 0.2
             }
            },
            "type": "bar"
           }
          ],
          "barpolar": [
           {
            "marker": {
             "line": {
              "color": "#E5ECF6",
              "width": 0.5
             },
             "pattern": {
              "fillmode": "overlay",
              "size": 10,
              "solidity": 0.2
             }
            },
            "type": "barpolar"
           }
          ],
          "carpet": [
           {
            "aaxis": {
             "endlinecolor": "#2a3f5f",
             "gridcolor": "white",
             "linecolor": "white",
             "minorgridcolor": "white",
             "startlinecolor": "#2a3f5f"
            },
            "baxis": {
             "endlinecolor": "#2a3f5f",
             "gridcolor": "white",
             "linecolor": "white",
             "minorgridcolor": "white",
             "startlinecolor": "#2a3f5f"
            },
            "type": "carpet"
           }
          ],
          "choropleth": [
           {
            "colorbar": {
             "outlinewidth": 0,
             "ticks": ""
            },
            "type": "choropleth"
           }
          ],
          "contour": [
           {
            "colorbar": {
             "outlinewidth": 0,
             "ticks": ""
            },
            "colorscale": [
             [
              0,
              "#0d0887"
             ],
             [
              0.1111111111111111,
              "#46039f"
             ],
             [
              0.2222222222222222,
              "#7201a8"
             ],
             [
              0.3333333333333333,
              "#9c179e"
             ],
             [
              0.4444444444444444,
              "#bd3786"
             ],
             [
              0.5555555555555556,
              "#d8576b"
             ],
             [
              0.6666666666666666,
              "#ed7953"
             ],
             [
              0.7777777777777778,
              "#fb9f3a"
             ],
             [
              0.8888888888888888,
              "#fdca26"
             ],
             [
              1,
              "#f0f921"
             ]
            ],
            "type": "contour"
           }
          ],
          "contourcarpet": [
           {
            "colorbar": {
             "outlinewidth": 0,
             "ticks": ""
            },
            "type": "contourcarpet"
           }
          ],
          "heatmap": [
           {
            "colorbar": {
             "outlinewidth": 0,
             "ticks": ""
            },
            "colorscale": [
             [
              0,
              "#0d0887"
             ],
             [
              0.1111111111111111,
              "#46039f"
             ],
             [
              0.2222222222222222,
              "#7201a8"
             ],
             [
              0.3333333333333333,
              "#9c179e"
             ],
             [
              0.4444444444444444,
              "#bd3786"
             ],
             [
              0.5555555555555556,
              "#d8576b"
             ],
             [
              0.6666666666666666,
              "#ed7953"
             ],
             [
              0.7777777777777778,
              "#fb9f3a"
             ],
             [
              0.8888888888888888,
              "#fdca26"
             ],
             [
              1,
              "#f0f921"
             ]
            ],
            "type": "heatmap"
           }
          ],
          "heatmapgl": [
           {
            "colorbar": {
             "outlinewidth": 0,
             "ticks": ""
            },
            "colorscale": [
             [
              0,
              "#0d0887"
             ],
             [
              0.1111111111111111,
              "#46039f"
             ],
             [
              0.2222222222222222,
              "#7201a8"
             ],
             [
              0.3333333333333333,
              "#9c179e"
             ],
             [
              0.4444444444444444,
              "#bd3786"
             ],
             [
              0.5555555555555556,
              "#d8576b"
             ],
             [
              0.6666666666666666,
              "#ed7953"
             ],
             [
              0.7777777777777778,
              "#fb9f3a"
             ],
             [
              0.8888888888888888,
              "#fdca26"
             ],
             [
              1,
              "#f0f921"
             ]
            ],
            "type": "heatmapgl"
           }
          ],
          "histogram": [
           {
            "marker": {
             "pattern": {
              "fillmode": "overlay",
              "size": 10,
              "solidity": 0.2
             }
            },
            "type": "histogram"
           }
          ],
          "histogram2d": [
           {
            "colorbar": {
             "outlinewidth": 0,
             "ticks": ""
            },
            "colorscale": [
             [
              0,
              "#0d0887"
             ],
             [
              0.1111111111111111,
              "#46039f"
             ],
             [
              0.2222222222222222,
              "#7201a8"
             ],
             [
              0.3333333333333333,
              "#9c179e"
             ],
             [
              0.4444444444444444,
              "#bd3786"
             ],
             [
              0.5555555555555556,
              "#d8576b"
             ],
             [
              0.6666666666666666,
              "#ed7953"
             ],
             [
              0.7777777777777778,
              "#fb9f3a"
             ],
             [
              0.8888888888888888,
              "#fdca26"
             ],
             [
              1,
              "#f0f921"
             ]
            ],
            "type": "histogram2d"
           }
          ],
          "histogram2dcontour": [
           {
            "colorbar": {
             "outlinewidth": 0,
             "ticks": ""
            },
            "colorscale": [
             [
              0,
              "#0d0887"
             ],
             [
              0.1111111111111111,
              "#46039f"
             ],
             [
              0.2222222222222222,
              "#7201a8"
             ],
             [
              0.3333333333333333,
              "#9c179e"
             ],
             [
              0.4444444444444444,
              "#bd3786"
             ],
             [
              0.5555555555555556,
              "#d8576b"
             ],
             [
              0.6666666666666666,
              "#ed7953"
             ],
             [
              0.7777777777777778,
              "#fb9f3a"
             ],
             [
              0.8888888888888888,
              "#fdca26"
             ],
             [
              1,
              "#f0f921"
             ]
            ],
            "type": "histogram2dcontour"
           }
          ],
          "mesh3d": [
           {
            "colorbar": {
             "outlinewidth": 0,
             "ticks": ""
            },
            "type": "mesh3d"
           }
          ],
          "parcoords": [
           {
            "line": {
             "colorbar": {
              "outlinewidth": 0,
              "ticks": ""
             }
            },
            "type": "parcoords"
           }
          ],
          "pie": [
           {
            "automargin": true,
            "type": "pie"
           }
          ],
          "scatter": [
           {
            "fillpattern": {
             "fillmode": "overlay",
             "size": 10,
             "solidity": 0.2
            },
            "type": "scatter"
           }
          ],
          "scatter3d": [
           {
            "line": {
             "colorbar": {
              "outlinewidth": 0,
              "ticks": ""
             }
            },
            "marker": {
             "colorbar": {
              "outlinewidth": 0,
              "ticks": ""
             }
            },
            "type": "scatter3d"
           }
          ],
          "scattercarpet": [
           {
            "marker": {
             "colorbar": {
              "outlinewidth": 0,
              "ticks": ""
             }
            },
            "type": "scattercarpet"
           }
          ],
          "scattergeo": [
           {
            "marker": {
             "colorbar": {
              "outlinewidth": 0,
              "ticks": ""
             }
            },
            "type": "scattergeo"
           }
          ],
          "scattergl": [
           {
            "marker": {
             "colorbar": {
              "outlinewidth": 0,
              "ticks": ""
             }
            },
            "type": "scattergl"
           }
          ],
          "scattermapbox": [
           {
            "marker": {
             "colorbar": {
              "outlinewidth": 0,
              "ticks": ""
             }
            },
            "type": "scattermapbox"
           }
          ],
          "scatterpolar": [
           {
            "marker": {
             "colorbar": {
              "outlinewidth": 0,
              "ticks": ""
             }
            },
            "type": "scatterpolar"
           }
          ],
          "scatterpolargl": [
           {
            "marker": {
             "colorbar": {
              "outlinewidth": 0,
              "ticks": ""
             }
            },
            "type": "scatterpolargl"
           }
          ],
          "scatterternary": [
           {
            "marker": {
             "colorbar": {
              "outlinewidth": 0,
              "ticks": ""
             }
            },
            "type": "scatterternary"
           }
          ],
          "surface": [
           {
            "colorbar": {
             "outlinewidth": 0,
             "ticks": ""
            },
            "colorscale": [
             [
              0,
              "#0d0887"
             ],
             [
              0.1111111111111111,
              "#46039f"
             ],
             [
              0.2222222222222222,
              "#7201a8"
             ],
             [
              0.3333333333333333,
              "#9c179e"
             ],
             [
              0.4444444444444444,
              "#bd3786"
             ],
             [
              0.5555555555555556,
              "#d8576b"
             ],
             [
              0.6666666666666666,
              "#ed7953"
             ],
             [
              0.7777777777777778,
              "#fb9f3a"
             ],
             [
              0.8888888888888888,
              "#fdca26"
             ],
             [
              1,
              "#f0f921"
             ]
            ],
            "type": "surface"
           }
          ],
          "table": [
           {
            "cells": {
             "fill": {
              "color": "#EBF0F8"
             },
             "line": {
              "color": "white"
             }
            },
            "header": {
             "fill": {
              "color": "#C8D4E3"
             },
             "line": {
              "color": "white"
             }
            },
            "type": "table"
           }
          ]
         },
         "layout": {
          "annotationdefaults": {
           "arrowcolor": "#2a3f5f",
           "arrowhead": 0,
           "arrowwidth": 1
          },
          "autotypenumbers": "strict",
          "coloraxis": {
           "colorbar": {
            "outlinewidth": 0,
            "ticks": ""
           }
          },
          "colorscale": {
           "diverging": [
            [
             0,
             "#8e0152"
            ],
            [
             0.1,
             "#c51b7d"
            ],
            [
             0.2,
             "#de77ae"
            ],
            [
             0.3,
             "#f1b6da"
            ],
            [
             0.4,
             "#fde0ef"
            ],
            [
             0.5,
             "#f7f7f7"
            ],
            [
             0.6,
             "#e6f5d0"
            ],
            [
             0.7,
             "#b8e186"
            ],
            [
             0.8,
             "#7fbc41"
            ],
            [
             0.9,
             "#4d9221"
            ],
            [
             1,
             "#276419"
            ]
           ],
           "sequential": [
            [
             0,
             "#0d0887"
            ],
            [
             0.1111111111111111,
             "#46039f"
            ],
            [
             0.2222222222222222,
             "#7201a8"
            ],
            [
             0.3333333333333333,
             "#9c179e"
            ],
            [
             0.4444444444444444,
             "#bd3786"
            ],
            [
             0.5555555555555556,
             "#d8576b"
            ],
            [
             0.6666666666666666,
             "#ed7953"
            ],
            [
             0.7777777777777778,
             "#fb9f3a"
            ],
            [
             0.8888888888888888,
             "#fdca26"
            ],
            [
             1,
             "#f0f921"
            ]
           ],
           "sequentialminus": [
            [
             0,
             "#0d0887"
            ],
            [
             0.1111111111111111,
             "#46039f"
            ],
            [
             0.2222222222222222,
             "#7201a8"
            ],
            [
             0.3333333333333333,
             "#9c179e"
            ],
            [
             0.4444444444444444,
             "#bd3786"
            ],
            [
             0.5555555555555556,
             "#d8576b"
            ],
            [
             0.6666666666666666,
             "#ed7953"
            ],
            [
             0.7777777777777778,
             "#fb9f3a"
            ],
            [
             0.8888888888888888,
             "#fdca26"
            ],
            [
             1,
             "#f0f921"
            ]
           ]
          },
          "colorway": [
           "#636efa",
           "#EF553B",
           "#00cc96",
           "#ab63fa",
           "#FFA15A",
           "#19d3f3",
           "#FF6692",
           "#B6E880",
           "#FF97FF",
           "#FECB52"
          ],
          "font": {
           "color": "#2a3f5f"
          },
          "geo": {
           "bgcolor": "white",
           "lakecolor": "white",
           "landcolor": "#E5ECF6",
           "showlakes": true,
           "showland": true,
           "subunitcolor": "white"
          },
          "hoverlabel": {
           "align": "left"
          },
          "hovermode": "closest",
          "mapbox": {
           "style": "light"
          },
          "paper_bgcolor": "white",
          "plot_bgcolor": "#E5ECF6",
          "polar": {
           "angularaxis": {
            "gridcolor": "white",
            "linecolor": "white",
            "ticks": ""
           },
           "bgcolor": "#E5ECF6",
           "radialaxis": {
            "gridcolor": "white",
            "linecolor": "white",
            "ticks": ""
           }
          },
          "scene": {
           "xaxis": {
            "backgroundcolor": "#E5ECF6",
            "gridcolor": "white",
            "gridwidth": 2,
            "linecolor": "white",
            "showbackground": true,
            "ticks": "",
            "zerolinecolor": "white"
           },
           "yaxis": {
            "backgroundcolor": "#E5ECF6",
            "gridcolor": "white",
            "gridwidth": 2,
            "linecolor": "white",
            "showbackground": true,
            "ticks": "",
            "zerolinecolor": "white"
           },
           "zaxis": {
            "backgroundcolor": "#E5ECF6",
            "gridcolor": "white",
            "gridwidth": 2,
            "linecolor": "white",
            "showbackground": true,
            "ticks": "",
            "zerolinecolor": "white"
           }
          },
          "shapedefaults": {
           "line": {
            "color": "#2a3f5f"
           }
          },
          "ternary": {
           "aaxis": {
            "gridcolor": "white",
            "linecolor": "white",
            "ticks": ""
           },
           "baxis": {
            "gridcolor": "white",
            "linecolor": "white",
            "ticks": ""
           },
           "bgcolor": "#E5ECF6",
           "caxis": {
            "gridcolor": "white",
            "linecolor": "white",
            "ticks": ""
           }
          },
          "title": {
           "x": 0.05
          },
          "xaxis": {
           "automargin": true,
           "gridcolor": "white",
           "linecolor": "white",
           "ticks": "",
           "title": {
            "standoff": 15
           },
           "zerolinecolor": "white",
           "zerolinewidth": 2
          },
          "yaxis": {
           "automargin": true,
           "gridcolor": "white",
           "linecolor": "white",
           "ticks": "",
           "title": {
            "standoff": 15
           },
           "zerolinecolor": "white",
           "zerolinewidth": 2
          }
         }
        },
        "width": 492,
        "xaxis": {
         "range": [
          0.001,
          0.255
         ],
         "tickformat": ".0%",
         "tickvals": [
          0.01,
          0.04,
          0.09,
          0.16,
          0.25
         ],
         "title": {
          "text": "Area Occluded (%)"
         }
        },
        "yaxis": {
         "range": [
          -0.035,
          1.05
         ],
         "tickformat": ".0%"
        }
       }
      }
     },
     "metadata": {},
     "output_type": "display_data"
    }
   ],
   "source": [
    "def hex_to_rgb(hex_color):\n",
    "    \"\"\"Convert a hexadecimal color code to an RGB tuple.\"\"\"\n",
    "    hex_color = hex_color.lstrip('#')  # Remove the '#' if it exists\n",
    "    return tuple(int(hex_color[i:i+2], 16) for i in (0, 2, 4))\n",
    "\n",
    "\n",
    "# Define all pairs to display\n",
    "trace_types = [\n",
    "    'qrart', 'qr', 'claycodeart', 'claycode','claycode-fragment', 'barcode'\n",
    "]\n",
    "\n",
    "name_mapping = {\n",
    "    'claycode': 'Claycode (R=1)',\n",
    "    'claycode-fragment': 'Claycode (R=2)',\n",
    "    'qr': 'QR',\n",
    "    'qrart': 'Styl. QR',\n",
    "    'claycodeart': 'Styl. Claycode (R=2)',\n",
    "    'barcode': 'Barcode'\n",
    "}\n",
    "\n",
    "##################\n",
    "# Colors\n",
    "##################\n",
    "\n",
    "claycode_color_main = '#156b59'  \n",
    "claycode_color_variant2 = '#298c73'  \n",
    "claycode_color_variant1 = '#26a78a' \n",
    "qr_color_main = '#d95f02'  # Main shade for qr\n",
    "qr_color_variant = '#f5861a'  # orange for variant\n",
    "barcode_color = '#1160b8' \n",
    "\n",
    "color_scheme = {\n",
    "    'claycode': claycode_color_main, \n",
    "    'claycodeart': claycode_color_variant1, \n",
    "    'claycode-fragment': claycode_color_variant2, \n",
    "    'qr': qr_color_main, \n",
    "    'qrart': qr_color_variant, \n",
    "    'barcode': barcode_color,\n",
    "    'claycode2': claycode_color_main, \n",
    "    'claycodeart2': claycode_color_variant1, \n",
    "    'claycode2-fragment': claycode_color_variant2, \n",
    "    'qr2': qr_color_main, \n",
    "    'qrart2': qr_color_variant, \n",
    "    'barcode2': barcode_color\n",
    "}\n",
    "\n",
    "##################\n",
    "# Marker styles\n",
    "##################\n",
    "\n",
    "marker_qr = 'square'\n",
    "marker_qrart = 'diamond'\n",
    "marker_claycode = 'circle'\n",
    "marker_claycodeart = 'bowtie'\n",
    "marker_claycode_fragment = 'diamond-tall'\n",
    "marker_barcode = 'x'\n",
    "marker_map = {\n",
    "    'qr': marker_qr,\n",
    "    'qrart': marker_qrart,\n",
    "    'claycode': marker_claycode,\n",
    "    'claycodeart': marker_claycodeart,\n",
    "    'barcode': marker_barcode,\n",
    "    'claycode-fragment': marker_claycode_fragment,\n",
    "}\n",
    "\n",
    "MULT = 1.1\n",
    "SIZE_QR = 9\n",
    "SIZE_QR_ART = 11\n",
    "SIZE_CLAYCODE = 8\n",
    "SIZE_CLAYCODE_ART = 12\n",
    "SIZE_CLAYCODE_FRAGMENT = 10\n",
    "SIZE_BARCODE = 9\n",
    "marker_size_map = {\n",
    "    'claycode': SIZE_CLAYCODE,\n",
    "    'claycodeart': SIZE_CLAYCODE_ART,\n",
    "    'claycode-fragment': SIZE_CLAYCODE_FRAGMENT,\n",
    "    'qr': SIZE_QR,\n",
    "    'qrart': SIZE_QR_ART,\n",
    "    'barcode': SIZE_BARCODE,\n",
    "}\n",
    "marker_size_map = { key: value*MULT for key,value in marker_size_map.items() }\n",
    "\n",
    "\n",
    "# Plot setup\n",
    "fig = go.Figure()\n",
    "\n",
    "for trace_type in trace_types:\n",
    "    trace = df[df['type'] == trace_type]\n",
    "\n",
    "    fig.add_trace(go.Scatter(\n",
    "        x=trace['square_area_perc'],\n",
    "        y=trace['success_rate'],\n",
    "        mode='lines+markers',\n",
    "        name=name_mapping.get(trace_type, trace_type),\n",
    "        line=dict(\n",
    "            color=color_scheme.get(trace_type, '#000000'),\n",
    "        ),\n",
    "        marker=dict(\n",
    "            symbol=marker_map.get(trace_type, 'circle'),\n",
    "            size=marker_size_map.get(trace_type, 0)\n",
    "        )\n",
    "    ))\n",
    "\n",
    "FIG_MULT = 0.8\n",
    "fig.update_layout(\n",
    "    xaxis_title=\"Area Occluded (%)\",\n",
    "    height=410*FIG_MULT,\n",
    "    width=615*FIG_MULT,\n",
    "    showlegend=False,\n",
    "    margin=dict(t=10, b=10, l=10, r=7)\n",
    ")\n",
    "\n",
    "fig.update_traces(opacity=1, line=dict(width=2.3))\n",
    "fig.update_xaxes(range=[0.001, 0.255], tickformat='.0%', tickvals=[.01, .04, .09, .16, .25])\n",
    "fig.update_yaxes(range=[-.035, 1.05], tickformat='.0%')\n",
    "\n",
    "# Export to PDF\n",
    "fig.write_image(\"occlusion.pdf\", format=\"pdf\", engine=\"kaleido\")\n",
    "fig.show()\n"
   ]
  }
 ],
 "metadata": {
  "kernelspec": {
   "display_name": ".venv",
   "language": "python",
   "name": "python3"
  },
  "language_info": {
   "codemirror_mode": {
    "name": "ipython",
    "version": 3
   },
   "file_extension": ".py",
   "mimetype": "text/x-python",
   "name": "python",
   "nbconvert_exporter": "python",
   "pygments_lexer": "ipython3",
   "version": "3.12.4"
  }
 },
 "nbformat": 4,
 "nbformat_minor": 2
}
