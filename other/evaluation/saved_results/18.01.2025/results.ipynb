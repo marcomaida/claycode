{
 "cells": [
  {
   "cell_type": "markdown",
   "metadata": {},
   "source": [
    "# Claycode SIGGRAPH Evaluation"
   ]
  },
  {
   "cell_type": "code",
   "execution_count": 18,
   "metadata": {},
   "outputs": [
    {
     "data": {
      "application/vnd.plotly.v1+json": {
       "config": {
        "plotlyServerURL": "https://plot.ly"
       },
       "data": [
        {
         "hovertemplate": "Type=Claycode (R=1)<br>Square side dimension (%)=%{x}<br>Success rate (%)=%{y}<extra></extra>",
         "legendgroup": "Claycode (R=1)",
         "line": {
          "color": "#1b9e77",
          "dash": "solid",
          "width": 2
         },
         "marker": {
          "opacity": 1,
          "size": 13,
          "symbol": "hexagram-open"
         },
         "mode": "lines+markers",
         "name": "Claycode (R=1)",
         "orientation": "v",
         "showlegend": true,
         "type": "scatter",
         "x": [
          0.1,
          0.2,
          0.3,
          0.4,
          0.5
         ],
         "xaxis": "x",
         "y": [
          0,
          0,
          0,
          0,
          0
         ],
         "yaxis": "y"
        },
        {
         "hovertemplate": "Type=Claycode (R=2)<br>Square side dimension (%)=%{x}<br>Success rate (%)=%{y}<extra></extra>",
         "legendgroup": "Claycode (R=2)",
         "line": {
          "color": "#1b9e77",
          "dash": "dashdot",
          "width": 2
         },
         "marker": {
          "opacity": 1,
          "size": 13,
          "symbol": "star"
         },
         "mode": "lines+markers",
         "name": "Claycode (R=2)",
         "orientation": "v",
         "showlegend": true,
         "type": "scatter",
         "x": [
          0.1,
          0.2,
          0.3,
          0.4,
          0.5
         ],
         "xaxis": "x",
         "y": [
          0.9,
          0.65,
          0.25,
          0.2,
          0.05
         ],
         "yaxis": "y"
        },
        {
         "hovertemplate": "Type=Styl. Claycode (R=1)<br>Square side dimension (%)=%{x}<br>Success rate (%)=%{y}<extra></extra>",
         "legendgroup": "Styl. Claycode (R=1)",
         "line": {
          "color": "#1b9e77",
          "dash": "dot",
          "width": 2
         },
         "marker": {
          "opacity": 1,
          "size": 13,
          "symbol": "hexagram-dot"
         },
         "mode": "lines+markers",
         "name": "Styl. Claycode (R=1)",
         "orientation": "v",
         "showlegend": true,
         "type": "scatter",
         "x": [
          0.1,
          0.2,
          0.3,
          0.4,
          0.5
         ],
         "xaxis": "x",
         "y": [
          0.96,
          0.76,
          0.41000000000000003,
          0.21000000000000002,
          0.060000000000000005
         ],
         "yaxis": "y"
        },
        {
         "hovertemplate": "Type=QR<br>Square side dimension (%)=%{x}<br>Success rate (%)=%{y}<extra></extra>",
         "legendgroup": "QR",
         "line": {
          "color": "#d95f02",
          "dash": "solid",
          "width": 2
         },
         "marker": {
          "opacity": 1,
          "size": 13,
          "symbol": "square-open"
         },
         "mode": "lines+markers",
         "name": "QR",
         "orientation": "v",
         "showlegend": true,
         "type": "scatter",
         "x": [
          0.1,
          0.2,
          0.3,
          0.4,
          0.5
         ],
         "xaxis": "x",
         "y": [
          0.95,
          0.55,
          0.2,
          0,
          0
         ],
         "yaxis": "y"
        },
        {
         "hovertemplate": "Type=Styl. QR<br>Square side dimension (%)=%{x}<br>Success rate (%)=%{y}<extra></extra>",
         "legendgroup": "Styl. QR",
         "line": {
          "color": "#d95f02",
          "dash": "dot",
          "width": 2
         },
         "marker": {
          "opacity": 1,
          "size": 13,
          "symbol": "square"
         },
         "mode": "lines+markers",
         "name": "Styl. QR",
         "orientation": "v",
         "showlegend": true,
         "type": "scatter",
         "x": [
          0.1,
          0.2,
          0.3,
          0.4,
          0.5
         ],
         "xaxis": "x",
         "y": [
          0.65,
          0.25,
          0.05,
          0,
          0
         ],
         "yaxis": "y"
        },
        {
         "hovertemplate": "Type=Barcode<br>Square side dimension (%)=%{x}<br>Success rate (%)=%{y}<extra></extra>",
         "legendgroup": "Barcode",
         "line": {
          "color": "#7570b3",
          "dash": "solid",
          "width": 2
         },
         "marker": {
          "opacity": 1,
          "size": 13,
          "symbol": "cross"
         },
         "mode": "lines+markers",
         "name": "Barcode",
         "orientation": "v",
         "showlegend": true,
         "type": "scatter",
         "x": [
          0.1,
          0.2,
          0.3,
          0.4,
          0.5
         ],
         "xaxis": "x",
         "y": [
          1,
          1,
          1,
          1,
          1
         ],
         "yaxis": "y"
        }
       ],
       "layout": {
        "height": 400,
        "legend": {
         "bgcolor": "rgba(255, 255, 255, 0.7)",
         "bordercolor": "black",
         "borderwidth": 1,
         "title": {
          "text": ""
         },
         "tracegroupgap": 0,
         "x": 0.7,
         "xanchor": "left",
         "y": 0.9,
         "yanchor": "top"
        },
        "margin": {
         "b": 50,
         "l": 50,
         "r": 50,
         "t": 30
        },
        "template": {
         "data": {
          "bar": [
           {
            "error_x": {
             "color": "#2a3f5f"
            },
            "error_y": {
             "color": "#2a3f5f"
            },
            "marker": {
             "line": {
              "color": "#E5ECF6",
              "width": 0.5
             },
             "pattern": {
              "fillmode": "overlay",
              "size": 10,
              "solidity": 0.2
             }
            },
            "type": "bar"
           }
          ],
          "barpolar": [
           {
            "marker": {
             "line": {
              "color": "#E5ECF6",
              "width": 0.5
             },
             "pattern": {
              "fillmode": "overlay",
              "size": 10,
              "solidity": 0.2
             }
            },
            "type": "barpolar"
           }
          ],
          "carpet": [
           {
            "aaxis": {
             "endlinecolor": "#2a3f5f",
             "gridcolor": "white",
             "linecolor": "white",
             "minorgridcolor": "white",
             "startlinecolor": "#2a3f5f"
            },
            "baxis": {
             "endlinecolor": "#2a3f5f",
             "gridcolor": "white",
             "linecolor": "white",
             "minorgridcolor": "white",
             "startlinecolor": "#2a3f5f"
            },
            "type": "carpet"
           }
          ],
          "choropleth": [
           {
            "colorbar": {
             "outlinewidth": 0,
             "ticks": ""
            },
            "type": "choropleth"
           }
          ],
          "contour": [
           {
            "colorbar": {
             "outlinewidth": 0,
             "ticks": ""
            },
            "colorscale": [
             [
              0,
              "#0d0887"
             ],
             [
              0.1111111111111111,
              "#46039f"
             ],
             [
              0.2222222222222222,
              "#7201a8"
             ],
             [
              0.3333333333333333,
              "#9c179e"
             ],
             [
              0.4444444444444444,
              "#bd3786"
             ],
             [
              0.5555555555555556,
              "#d8576b"
             ],
             [
              0.6666666666666666,
              "#ed7953"
             ],
             [
              0.7777777777777778,
              "#fb9f3a"
             ],
             [
              0.8888888888888888,
              "#fdca26"
             ],
             [
              1,
              "#f0f921"
             ]
            ],
            "type": "contour"
           }
          ],
          "contourcarpet": [
           {
            "colorbar": {
             "outlinewidth": 0,
             "ticks": ""
            },
            "type": "contourcarpet"
           }
          ],
          "heatmap": [
           {
            "colorbar": {
             "outlinewidth": 0,
             "ticks": ""
            },
            "colorscale": [
             [
              0,
              "#0d0887"
             ],
             [
              0.1111111111111111,
              "#46039f"
             ],
             [
              0.2222222222222222,
              "#7201a8"
             ],
             [
              0.3333333333333333,
              "#9c179e"
             ],
             [
              0.4444444444444444,
              "#bd3786"
             ],
             [
              0.5555555555555556,
              "#d8576b"
             ],
             [
              0.6666666666666666,
              "#ed7953"
             ],
             [
              0.7777777777777778,
              "#fb9f3a"
             ],
             [
              0.8888888888888888,
              "#fdca26"
             ],
             [
              1,
              "#f0f921"
             ]
            ],
            "type": "heatmap"
           }
          ],
          "heatmapgl": [
           {
            "colorbar": {
             "outlinewidth": 0,
             "ticks": ""
            },
            "colorscale": [
             [
              0,
              "#0d0887"
             ],
             [
              0.1111111111111111,
              "#46039f"
             ],
             [
              0.2222222222222222,
              "#7201a8"
             ],
             [
              0.3333333333333333,
              "#9c179e"
             ],
             [
              0.4444444444444444,
              "#bd3786"
             ],
             [
              0.5555555555555556,
              "#d8576b"
             ],
             [
              0.6666666666666666,
              "#ed7953"
             ],
             [
              0.7777777777777778,
              "#fb9f3a"
             ],
             [
              0.8888888888888888,
              "#fdca26"
             ],
             [
              1,
              "#f0f921"
             ]
            ],
            "type": "heatmapgl"
           }
          ],
          "histogram": [
           {
            "marker": {
             "pattern": {
              "fillmode": "overlay",
              "size": 10,
              "solidity": 0.2
             }
            },
            "type": "histogram"
           }
          ],
          "histogram2d": [
           {
            "colorbar": {
             "outlinewidth": 0,
             "ticks": ""
            },
            "colorscale": [
             [
              0,
              "#0d0887"
             ],
             [
              0.1111111111111111,
              "#46039f"
             ],
             [
              0.2222222222222222,
              "#7201a8"
             ],
             [
              0.3333333333333333,
              "#9c179e"
             ],
             [
              0.4444444444444444,
              "#bd3786"
             ],
             [
              0.5555555555555556,
              "#d8576b"
             ],
             [
              0.6666666666666666,
              "#ed7953"
             ],
             [
              0.7777777777777778,
              "#fb9f3a"
             ],
             [
              0.8888888888888888,
              "#fdca26"
             ],
             [
              1,
              "#f0f921"
             ]
            ],
            "type": "histogram2d"
           }
          ],
          "histogram2dcontour": [
           {
            "colorbar": {
             "outlinewidth": 0,
             "ticks": ""
            },
            "colorscale": [
             [
              0,
              "#0d0887"
             ],
             [
              0.1111111111111111,
              "#46039f"
             ],
             [
              0.2222222222222222,
              "#7201a8"
             ],
             [
              0.3333333333333333,
              "#9c179e"
             ],
             [
              0.4444444444444444,
              "#bd3786"
             ],
             [
              0.5555555555555556,
              "#d8576b"
             ],
             [
              0.6666666666666666,
              "#ed7953"
             ],
             [
              0.7777777777777778,
              "#fb9f3a"
             ],
             [
              0.8888888888888888,
              "#fdca26"
             ],
             [
              1,
              "#f0f921"
             ]
            ],
            "type": "histogram2dcontour"
           }
          ],
          "mesh3d": [
           {
            "colorbar": {
             "outlinewidth": 0,
             "ticks": ""
            },
            "type": "mesh3d"
           }
          ],
          "parcoords": [
           {
            "line": {
             "colorbar": {
              "outlinewidth": 0,
              "ticks": ""
             }
            },
            "type": "parcoords"
           }
          ],
          "pie": [
           {
            "automargin": true,
            "type": "pie"
           }
          ],
          "scatter": [
           {
            "fillpattern": {
             "fillmode": "overlay",
             "size": 10,
             "solidity": 0.2
            },
            "type": "scatter"
           }
          ],
          "scatter3d": [
           {
            "line": {
             "colorbar": {
              "outlinewidth": 0,
              "ticks": ""
             }
            },
            "marker": {
             "colorbar": {
              "outlinewidth": 0,
              "ticks": ""
             }
            },
            "type": "scatter3d"
           }
          ],
          "scattercarpet": [
           {
            "marker": {
             "colorbar": {
              "outlinewidth": 0,
              "ticks": ""
             }
            },
            "type": "scattercarpet"
           }
          ],
          "scattergeo": [
           {
            "marker": {
             "colorbar": {
              "outlinewidth": 0,
              "ticks": ""
             }
            },
            "type": "scattergeo"
           }
          ],
          "scattergl": [
           {
            "marker": {
             "colorbar": {
              "outlinewidth": 0,
              "ticks": ""
             }
            },
            "type": "scattergl"
           }
          ],
          "scattermapbox": [
           {
            "marker": {
             "colorbar": {
              "outlinewidth": 0,
              "ticks": ""
             }
            },
            "type": "scattermapbox"
           }
          ],
          "scatterpolar": [
           {
            "marker": {
             "colorbar": {
              "outlinewidth": 0,
              "ticks": ""
             }
            },
            "type": "scatterpolar"
           }
          ],
          "scatterpolargl": [
           {
            "marker": {
             "colorbar": {
              "outlinewidth": 0,
              "ticks": ""
             }
            },
            "type": "scatterpolargl"
           }
          ],
          "scatterternary": [
           {
            "marker": {
             "colorbar": {
              "outlinewidth": 0,
              "ticks": ""
             }
            },
            "type": "scatterternary"
           }
          ],
          "surface": [
           {
            "colorbar": {
             "outlinewidth": 0,
             "ticks": ""
            },
            "colorscale": [
             [
              0,
              "#0d0887"
             ],
             [
              0.1111111111111111,
              "#46039f"
             ],
             [
              0.2222222222222222,
              "#7201a8"
             ],
             [
              0.3333333333333333,
              "#9c179e"
             ],
             [
              0.4444444444444444,
              "#bd3786"
             ],
             [
              0.5555555555555556,
              "#d8576b"
             ],
             [
              0.6666666666666666,
              "#ed7953"
             ],
             [
              0.7777777777777778,
              "#fb9f3a"
             ],
             [
              0.8888888888888888,
              "#fdca26"
             ],
             [
              1,
              "#f0f921"
             ]
            ],
            "type": "surface"
           }
          ],
          "table": [
           {
            "cells": {
             "fill": {
              "color": "#EBF0F8"
             },
             "line": {
              "color": "white"
             }
            },
            "header": {
             "fill": {
              "color": "#C8D4E3"
             },
             "line": {
              "color": "white"
             }
            },
            "type": "table"
           }
          ]
         },
         "layout": {
          "annotationdefaults": {
           "arrowcolor": "#2a3f5f",
           "arrowhead": 0,
           "arrowwidth": 1
          },
          "autotypenumbers": "strict",
          "coloraxis": {
           "colorbar": {
            "outlinewidth": 0,
            "ticks": ""
           }
          },
          "colorscale": {
           "diverging": [
            [
             0,
             "#8e0152"
            ],
            [
             0.1,
             "#c51b7d"
            ],
            [
             0.2,
             "#de77ae"
            ],
            [
             0.3,
             "#f1b6da"
            ],
            [
             0.4,
             "#fde0ef"
            ],
            [
             0.5,
             "#f7f7f7"
            ],
            [
             0.6,
             "#e6f5d0"
            ],
            [
             0.7,
             "#b8e186"
            ],
            [
             0.8,
             "#7fbc41"
            ],
            [
             0.9,
             "#4d9221"
            ],
            [
             1,
             "#276419"
            ]
           ],
           "sequential": [
            [
             0,
             "#0d0887"
            ],
            [
             0.1111111111111111,
             "#46039f"
            ],
            [
             0.2222222222222222,
             "#7201a8"
            ],
            [
             0.3333333333333333,
             "#9c179e"
            ],
            [
             0.4444444444444444,
             "#bd3786"
            ],
            [
             0.5555555555555556,
             "#d8576b"
            ],
            [
             0.6666666666666666,
             "#ed7953"
            ],
            [
             0.7777777777777778,
             "#fb9f3a"
            ],
            [
             0.8888888888888888,
             "#fdca26"
            ],
            [
             1,
             "#f0f921"
            ]
           ],
           "sequentialminus": [
            [
             0,
             "#0d0887"
            ],
            [
             0.1111111111111111,
             "#46039f"
            ],
            [
             0.2222222222222222,
             "#7201a8"
            ],
            [
             0.3333333333333333,
             "#9c179e"
            ],
            [
             0.4444444444444444,
             "#bd3786"
            ],
            [
             0.5555555555555556,
             "#d8576b"
            ],
            [
             0.6666666666666666,
             "#ed7953"
            ],
            [
             0.7777777777777778,
             "#fb9f3a"
            ],
            [
             0.8888888888888888,
             "#fdca26"
            ],
            [
             1,
             "#f0f921"
            ]
           ]
          },
          "colorway": [
           "#636efa",
           "#EF553B",
           "#00cc96",
           "#ab63fa",
           "#FFA15A",
           "#19d3f3",
           "#FF6692",
           "#B6E880",
           "#FF97FF",
           "#FECB52"
          ],
          "font": {
           "color": "#2a3f5f"
          },
          "geo": {
           "bgcolor": "white",
           "lakecolor": "white",
           "landcolor": "#E5ECF6",
           "showlakes": true,
           "showland": true,
           "subunitcolor": "white"
          },
          "hoverlabel": {
           "align": "left"
          },
          "hovermode": "closest",
          "mapbox": {
           "style": "light"
          },
          "paper_bgcolor": "white",
          "plot_bgcolor": "#E5ECF6",
          "polar": {
           "angularaxis": {
            "gridcolor": "white",
            "linecolor": "white",
            "ticks": ""
           },
           "bgcolor": "#E5ECF6",
           "radialaxis": {
            "gridcolor": "white",
            "linecolor": "white",
            "ticks": ""
           }
          },
          "scene": {
           "xaxis": {
            "backgroundcolor": "#E5ECF6",
            "gridcolor": "white",
            "gridwidth": 2,
            "linecolor": "white",
            "showbackground": true,
            "ticks": "",
            "zerolinecolor": "white"
           },
           "yaxis": {
            "backgroundcolor": "#E5ECF6",
            "gridcolor": "white",
            "gridwidth": 2,
            "linecolor": "white",
            "showbackground": true,
            "ticks": "",
            "zerolinecolor": "white"
           },
           "zaxis": {
            "backgroundcolor": "#E5ECF6",
            "gridcolor": "white",
            "gridwidth": 2,
            "linecolor": "white",
            "showbackground": true,
            "ticks": "",
            "zerolinecolor": "white"
           }
          },
          "shapedefaults": {
           "line": {
            "color": "#2a3f5f"
           }
          },
          "ternary": {
           "aaxis": {
            "gridcolor": "white",
            "linecolor": "white",
            "ticks": ""
           },
           "baxis": {
            "gridcolor": "white",
            "linecolor": "white",
            "ticks": ""
           },
           "bgcolor": "#E5ECF6",
           "caxis": {
            "gridcolor": "white",
            "linecolor": "white",
            "ticks": ""
           }
          },
          "title": {
           "x": 0.05
          },
          "xaxis": {
           "automargin": true,
           "gridcolor": "white",
           "linecolor": "white",
           "ticks": "",
           "title": {
            "standoff": 15
           },
           "zerolinecolor": "white",
           "zerolinewidth": 2
          },
          "yaxis": {
           "automargin": true,
           "gridcolor": "white",
           "linecolor": "white",
           "ticks": "",
           "title": {
            "standoff": 15
           },
           "zerolinecolor": "white",
           "zerolinewidth": 2
          }
         }
        },
        "width": 700,
        "xaxis": {
         "anchor": "y",
         "domain": [
          0,
          1
         ],
         "range": [
          0.09,
          0.52
         ],
         "tickformat": ".0%",
         "title": {
          "text": "Square side dimension (%)"
         }
        },
        "yaxis": {
         "anchor": "x",
         "domain": [
          0,
          1
         ],
         "range": [
          -0.05,
          1.05
         ],
         "tickformat": ".0%",
         "title": {
          "text": "Success rate (%)"
         }
        }
       }
      }
     },
     "metadata": {},
     "output_type": "display_data"
    }
   ],
   "source": [
    "import pandas as pd\n",
    "import plotly.express as px\n",
    "\n",
    "# Load the dataset\n",
    "df = pd.read_csv('results.csv')\n",
    "\n",
    "# Process the 'type' column to categorize types based on the filename\n",
    "df['type'] = df['filename'].str.split('-').map(lambda x: \"-\".join(x[:-1]).replace(\"_clay\", \"clay\"))\n",
    "\n",
    "# Select relevant columns\n",
    "df = df[['successful', 'square_dimension_perc', 'type']]\n",
    "\n",
    "# Group by square_dimension_perc and type, then calculate success rate\n",
    "grouped = df.groupby(['square_dimension_perc', 'type'])\n",
    "df = grouped['successful'].agg(['sum', 'count']).reset_index()\n",
    "df['success_rate'] = df['sum'] / df['count']\n",
    "df['type'] = df['type'].replace({'claycode': 'Claycode (R=1)',\n",
    "                                 'claycode-fragment': 'Claycode (R=2)',\n",
    "                                 'qr': 'QR',\n",
    "                                 'qrart': 'Styl. QR',\n",
    "                                 'claycodeart': 'Styl. Claycode (R=2)',\n",
    "                                 'barcode': 'Barcode'\n",
    "                                 })\n",
    "\n",
    "# Define the custom color scheme using Dark2[0], Dark2[1], Dark2[2]\n",
    "color_scheme = {\n",
    "    'Claycode (R=1)': '#1b9e77', \n",
    "    'Styl. Claycode (R=2)': '#1b9e77', \n",
    "    'Claycode (R=2)': '#1b9e77', \n",
    "    'QR': '#d95f02', \n",
    "    'Styl. QR': '#d95f02', \n",
    "    'Barcode': '#7570b3'\n",
    "}\n",
    "\n",
    "# Define line dash style\n",
    "line_dash_map = {\n",
    "    'Claycode (R=1)': 'solid', \n",
    "    'Styl. Claycode (R=2)': 'dot',  \n",
    "    'Claycode (R=2)': 'dashdot',  \n",
    "    'QR': 'solid', \n",
    "    'Styl. QR': 'dot', \n",
    "    'Barcode': 'solid'\n",
    "}\n",
    "\n",
    "# Define line width and marker symbols\n",
    "line_width_map = {\n",
    "    'Claycode (R=1)': 2,\n",
    "    'Styl. Claycode (R=2)': 2, \n",
    "    'Claycode (R=2)': 2, \n",
    "    'QR': 2, \n",
    "    'Styl. QR': 2, \n",
    "    'Barcode': 2\n",
    "}\n",
    "\n",
    "marker_map = {\n",
    "    'QR': 'square-open',\n",
    "    'Styl. QR': 'square',\n",
    "    'Claycode (R=1)': 'hexagram-open',\n",
    "    'Styl. Claycode (R=2)': 'hexagram-dot',\n",
    "    'Claycode (R=2)': 'star',\n",
    "    'Barcode': 'cross',\n",
    "}\n",
    "\n",
    "# Apply small offsets to the success rate for better separation between overlapping claycode types\n",
    "df['adjusted_success_rate'] = df['success_rate']\n",
    "df.loc[df['type'] == 'Styl. Claycode (R=2)', 'adjusted_success_rate'] += 0.01\n",
    "df.loc[df['type'] == 'claycode (R=2)', 'adjusted_success_rate'] += 0.02\n",
    "\n",
    "# Create the line plot with custom color, line styles, and width\n",
    "fig = px.line(\n",
    "    df,\n",
    "    x=\"square_dimension_perc\",\n",
    "    y=\"adjusted_success_rate\",\n",
    "    color=\"type\",\n",
    "    line_dash=\"type\",\n",
    "    markers=True,\n",
    "    labels={\n",
    "        \"square_dimension_perc\": \"Square side dimension (%)\",\n",
    "        \"adjusted_success_rate\": \"Success rate (%)\",\n",
    "        \"type\": \"Type\"\n",
    "    },\n",
    "    color_discrete_map=color_scheme,\n",
    ")\n",
    "\n",
    "# Apply line width, dash style, and marker symbols\n",
    "for trace in fig.data:\n",
    "    trace.line.dash = line_dash_map[trace.name]\n",
    "    trace.line.width = line_width_map[trace.name]\n",
    "    trace.marker.symbol = marker_map[trace.name]\n",
    "    trace.marker.size = 13\n",
    "    trace.marker.opacity = 1\n",
    "\n",
    "# Move the 'Barcode' trace to the foreground by reordering\n",
    "fig.data = sorted(fig.data, key=lambda x: x.name != 'Barcode', reverse=True)\n",
    "\n",
    "# Update layout\n",
    "fig.update_layout(\n",
    "    height=400,\n",
    "    width=700,\n",
    "    margin=dict(t=30, b=50, l=50, r=50),\n",
    "    legend=dict(\n",
    "        x=0.7,\n",
    "        y=0.9,\n",
    "        xanchor='left',\n",
    "        yanchor='top',\n",
    "        bgcolor='rgba(255, 255, 255, 0.7)',\n",
    "        bordercolor='black',\n",
    "        borderwidth=1,\n",
    "        title=\"\"\n",
    "    )\n",
    ")\n",
    "\n",
    "# Update axes\n",
    "fig.update_xaxes(range=[0.09, 0.52], tickformat='.0%')\n",
    "fig.update_yaxes(range=[-0.05, 1.05], tickformat='.0%')\n",
    "\n",
    "# Export to PDF\n",
    "fig.write_image(\"square-no-sinusoidal.pdf\", format=\"pdf\", engine=\"kaleido\")\n",
    "fig.show()"
   ]
  }
 ],
 "metadata": {
  "kernelspec": {
   "display_name": "Python 3",
   "language": "python",
   "name": "python3"
  },
  "language_info": {
   "codemirror_mode": {
    "name": "ipython",
    "version": 3
   },
   "file_extension": ".py",
   "mimetype": "text/x-python",
   "name": "python",
   "nbconvert_exporter": "python",
   "pygments_lexer": "ipython3",
   "version": "3.13.1"
  }
 },
 "nbformat": 4,
 "nbformat_minor": 2
}
