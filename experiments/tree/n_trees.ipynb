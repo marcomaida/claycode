{
 "cells": [
  {
   "cell_type": "code",
   "execution_count": null,
   "metadata": {},
   "outputs": [],
   "source": [
    "import plotly.graph_objects as go\n",
    "import numpy as np\n",
    "import math"
   ]
  },
  {
   "cell_type": "code",
   "execution_count": null,
   "metadata": {},
   "outputs": [],
   "source": [
    "# Exactly n\n",
    "def num_trees_of_size_n(n, k):\n",
    "    return math.log2(math.comb(n*k, n) // (k-1)*(n+1))\n",
    "\n",
    "def num_trees(n, k):\n",
    "    return np.sum([num_trees_of_size_n(i, k) for i in range(1, n+1) if i >= k])"
   ]
  },
  {
   "cell_type": "code",
   "execution_count": null,
   "metadata": {},
   "outputs": [],
   "source": [
    "N_MIN = 1\n",
    "K_MIN = 2\n",
    "N_RANGE = 100\n",
    "K_RANGE = 100\n",
    "\n",
    "n_values = np.array(range(N_MIN, N_RANGE+1), dtype=object)\n",
    "k_values = np.array(range(K_MIN, K_RANGE+1), dtype=object)\n",
    "z_values = np.array([[num_trees(n, k) for n in n_values] for k in k_values])\n",
    "\n",
    "fig = go.Figure(data=[go.Surface(\n",
    "    x=n_values,\n",
    "    y=k_values,\n",
    "    z=z_values\n",
    ")])\n",
    "\n",
    "fig.update_layout(scene = dict(\n",
    "                    xaxis_title=\"N\",\n",
    "                    yaxis_title=\"K\",\n",
    "                    zaxis_title=\"NUM_TREES\"),\n",
    "                    title=\"Number of trees\", autosize=False,\n",
    "                    width=800, height=800,\n",
    "                    margin=dict(l=65, r=50, b=65, t=90))\n",
    "\n",
    "fig.show()"
   ]
  },
  {
   "cell_type": "code",
   "execution_count": null,
   "metadata": {},
   "outputs": [],
   "source": [
    "# Find the optimal point\n",
    "k_idx, n_idx = np.unravel_index(np.argmax(z_values), z_values.shape)\n",
    "k = k_idx + K_MIN\n",
    "n = n_idx + N_MIN\n",
    "\n",
    "print(f\"The optimal K overall is {k}\")\n",
    "\n",
    "print(f\"Optimal K for each N:\")\n",
    "for n, k in [(n_idx+N_MIN, np.argmax(row)+K_MIN) for n_idx, row in enumerate(z_values.T)]:\n",
    "    print(f\"n={n} k={k}\")"
   ]
  }
 ],
 "metadata": {
  "kernelspec": {
   "display_name": "Python 3",
   "language": "python",
   "name": "python3"
  },
  "language_info": {
   "codemirror_mode": {
    "name": "ipython",
    "version": 3
   },
   "file_extension": ".py",
   "mimetype": "text/x-python",
   "name": "python",
   "nbconvert_exporter": "python",
   "pygments_lexer": "ipython3",
   "version": "3.10.11"
  },
  "orig_nbformat": 4
 },
 "nbformat": 4,
 "nbformat_minor": 2
}
