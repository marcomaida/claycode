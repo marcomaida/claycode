{
 "cells": [
  {
   "cell_type": "code",
   "execution_count": null,
   "metadata": {},
   "outputs": [],
   "source": [
    "import plotly.graph_objects as go\n",
    "import plotly.express as px\n",
    "import numpy as np\n",
    "import pandas as pd\n",
    "import math"
   ]
  },
  {
   "cell_type": "code",
   "execution_count": null,
   "metadata": {},
   "outputs": [],
   "source": [
    "def func_power(f, x, exp):\n",
    "    ret = x\n",
    "    for _ in range(exp):\n",
    "        ret = f(ret)\n",
    "    return ret\n",
    "\n",
    "def steps_to_target(f, x, target):\n",
    "    steps = 0\n",
    "    curr_val = x\n",
    "    while curr_val != target:\n",
    "        curr_val = f(curr_val)\n",
    "        steps += 1\n",
    "    return steps"
   ]
  },
  {
   "cell_type": "code",
   "execution_count": null,
   "metadata": {},
   "outputs": [],
   "source": [
    "data = np.array([\n",
    "    [steps_to_target(\n",
    "        lambda x: math.floor(math.sqrt(x)),\n",
    "        x,\n",
    "        1\n",
    "    ),\n",
    "    steps_to_target(\n",
    "        lambda x: x // 2,\n",
    "        x,\n",
    "        0\n",
    "    ),\n",
    "    steps_to_target(\n",
    "        lambda x: x // 4,\n",
    "        x,\n",
    "        0\n",
    "    ),\n",
    "    steps_to_target(\n",
    "        lambda x: x // 8,\n",
    "        x,\n",
    "        0\n",
    "    ),\n",
    "    steps_to_target(\n",
    "        lambda x: math.floor(math.log2(x)),\n",
    "        x,\n",
    "        0\n",
    "    ),\n",
    "    steps_to_target(\n",
    "        lambda x: math.floor(math.log10(x)),\n",
    "        x,\n",
    "        0\n",
    "    )\n",
    "    ] \n",
    "for x in range(1, 1_000_000)])\n",
    "\n",
    "df = pd.DataFrame(data=data, columns=[\"sqrt\", \"div2\", \"div4\", \"div8\", \"log2\", \"log10\"])\n",
    "\n",
    "fig = px.line(df, labels={\"index\": \"Number\", \"value\": \"Steps to zero\"})\n",
    "fig.show() "
   ]
  }
 ],
 "metadata": {
  "kernelspec": {
   "display_name": "Python 3",
   "language": "python",
   "name": "python3"
  },
  "language_info": {
   "codemirror_mode": {
    "name": "ipython",
    "version": 3
   },
   "file_extension": ".py",
   "mimetype": "text/x-python",
   "name": "python",
   "nbconvert_exporter": "python",
   "pygments_lexer": "ipython3",
   "version": "3.10.11"
  },
  "orig_nbformat": 4
 },
 "nbformat": 4,
 "nbformat_minor": 2
}
