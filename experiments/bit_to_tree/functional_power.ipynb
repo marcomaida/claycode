{
 "cells": [
  {
   "cell_type": "code",
   "execution_count": null,
   "metadata": {},
   "outputs": [],
   "source": [
    "import plotly.graph_objects as go\n",
    "import plotly.express as px\n",
    "import numpy as np\n",
    "import pandas as pd\n",
    "import math\n",
    "\n",
    "import sys\n",
    "sys.path.append('../')\n",
    "import tree_lib.util as util"
   ]
  },
  {
   "cell_type": "code",
   "execution_count": null,
   "metadata": {},
   "outputs": [],
   "source": [
    "def func_power(f, x, exp):\n",
    "    ret = x\n",
    "    for _ in range(exp):\n",
    "        ret = f(ret)\n",
    "    return ret\n",
    "\n",
    "def steps_to_target_iter(f, x, target):\n",
    "    steps = 0\n",
    "    curr_val = x\n",
    "    while curr_val > target:\n",
    "        curr_val = f(curr_val)\n",
    "        steps += 1\n",
    "    return steps\n",
    "\n",
    "def largest_value_fitting(f, n, use_binsearch=True):\n",
    "    assert n > 0\n",
    "    if use_binsearch:\n",
    "        if n == 1:\n",
    "            return 1\n",
    "        a = 0\n",
    "        b = n\n",
    "        while True:\n",
    "            r = (a+b)//2\n",
    "            rsq = f(r)\n",
    "            if rsq <= n and f(r+1) > n:\n",
    "                return f(r)\n",
    "            else:\n",
    "                if rsq <= n:\n",
    "                    a = r\n",
    "                else:\n",
    "                    b = r\n",
    "    else:\n",
    "        curr_largest = 1\n",
    "        while f(curr_largest) <= n:\n",
    "            curr_largest += 1\n",
    "        return f(curr_largest-1)\n",
    "\n",
    "def steps_to_target_remainder(f, x, target, use_largest_fitting=True, use_binsearch=True):\n",
    "    steps = 0\n",
    "    curr_val = x\n",
    "    while curr_val > target:\n",
    "        curr_val -= largest_value_fitting(f, curr_val, use_binsearch) if use_largest_fitting else f(curr_val)\n",
    "        steps += 1\n",
    "    return steps"
   ]
  },
  {
   "cell_type": "code",
   "execution_count": null,
   "metadata": {},
   "outputs": [],
   "source": [
    "NUMBER_OF_SAMPLES = 4000\n",
    "MAX_VALUE = 2**100\n",
    "SKIP = MAX_VALUE // NUMBER_OF_SAMPLES\n",
    "\n",
    "columns = [\"number\", \"sqrt\", \"cubert\", \"div2\", \"div4\", \"div8\", \"log2\", \"log10\", \"gauss\"]\n",
    "data_vertical = np.array([\n",
    "    [\n",
    "        x,\n",
    "        steps_to_target_iter(lambda x: math.floor(math.sqrt(x)), x, 1),\n",
    "        steps_to_target_iter(lambda x: math.floor(x**(1./3.)), x, 1),\n",
    "        steps_to_target_iter(lambda x: x // 2, x, 0),\n",
    "        steps_to_target_iter(lambda x: x // 4, x, 0),\n",
    "        steps_to_target_iter(lambda x: x // 8, x, 0),\n",
    "        steps_to_target_iter(lambda x: math.floor(math.log2(x)), x, 0),\n",
    "        steps_to_target_iter(lambda x: math.floor(math.log10(x)), x, 0),\n",
    "        steps_to_target_iter(lambda x: math.floor(math.sqrt(x*2)), x, 2), # Uhm is it actually correct? https://math.stackexchange.com/questions/2041988/how-to-get-inverse-of-formula-for-sum-of-integers-from-1-to-n\n",
    "    ]\n",
    "for x in range(1, MAX_VALUE, SKIP)])\n",
    "data_horizontal = np.array([\n",
    "    [\n",
    "        x,\n",
    "        steps_to_target_remainder(lambda x: x**2, x, 0),\n",
    "        steps_to_target_remainder(lambda x: x**3, x, 0),\n",
    "        steps_to_target_remainder(lambda x: x // 2, x, 1, use_largest_fitting=False),\n",
    "        steps_to_target_remainder(lambda x: x // 4, x, 3, use_largest_fitting=False),\n",
    "        steps_to_target_remainder(lambda x: x // 8, x, 7, use_largest_fitting=False),\n",
    "        steps_to_target_remainder(lambda x: 2**x, x, 0, use_binsearch=False),\n",
    "        steps_to_target_remainder(lambda x: 10**x, x, 0, use_binsearch=False),\n",
    "        steps_to_target_remainder(lambda x: (x*(x+1))//2, x, 0, use_binsearch=True)\n",
    "    ]\n",
    "for x in range(1, MAX_VALUE, SKIP)])"
   ]
  },
  {
   "cell_type": "code",
   "execution_count": null,
   "metadata": {},
   "outputs": [],
   "source": [
    "df_vertical = pd.DataFrame(data=data_vertical, columns=columns)\n",
    "fig = px.line(df_vertical, x=\"number\", y=columns[1:], labels={\"index\": \"Number\", \"value\": \"Steps to zero\"}, title=\"Vertical convergence rate\")\n",
    "fig.show() "
   ]
  },
  {
   "cell_type": "code",
   "execution_count": null,
   "metadata": {},
   "outputs": [],
   "source": [
    "df_horizontal = pd.DataFrame(data=data_horizontal, columns=columns)\n",
    "fig = px.line(df_horizontal, x=\"number\", y=columns[1:], labels={\"index\": \"Number\", \"value\": \"Steps to zero\"}, title=\"Horizontal convergence rate\")\n",
    "fig.show() "
   ]
  }
 ],
 "metadata": {
  "kernelspec": {
   "display_name": "Python 3",
   "language": "python",
   "name": "python3"
  },
  "language_info": {
   "codemirror_mode": {
    "name": "ipython",
    "version": 3
   },
   "file_extension": ".py",
   "mimetype": "text/x-python",
   "name": "python",
   "nbconvert_exporter": "python",
   "pygments_lexer": "ipython3",
   "version": "3.10.11"
  },
  "orig_nbformat": 4
 },
 "nbformat": 4,
 "nbformat_minor": 2
}
