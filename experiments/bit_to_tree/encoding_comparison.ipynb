{
 "cells": [
  {
   "cell_type": "markdown",
   "metadata": {},
   "source": [
    "# Encoding comparison\n",
    "\n",
    "This notebook contains a side-by-side evaluation of different bit-to-tree encodings"
   ]
  },
  {
   "cell_type": "code",
   "execution_count": 1,
   "metadata": {},
   "outputs": [],
   "source": [
    "import sys\n",
    "sys.path.append('../')\n",
    "\n",
    "import plotly.graph_objects as go\n",
    "import numpy as np\n",
    "import math\n",
    "import random\n",
    "\n",
    "from tree_lib.encodings import two_choices"
   ]
  },
  {
   "cell_type": "markdown",
   "metadata": {},
   "source": [
    "#### 1 - Define encodings to compare"
   ]
  },
  {
   "cell_type": "code",
   "execution_count": 2,
   "metadata": {},
   "outputs": [],
   "source": [
    "ENCODINGS = [[\"two_choices\", two_choices.bits_to_tree, two_choices.tree_to_bits]]"
   ]
  },
  {
   "cell_type": "markdown",
   "metadata": {},
   "source": [
    "#### 2. Check for correctness"
   ]
  },
  {
   "cell_type": "code",
   "execution_count": 7,
   "metadata": {},
   "outputs": [
    {
     "name": "stdout",
     "output_type": "stream",
     "text": [
      "two_choices OK\n"
     ]
    }
   ],
   "source": [
    "# Auto-correlation with lag 1\n",
    "def gen_signal(length, auto_correlation):\n",
    "    assert 0 <= auto_correlation <= 1 and length > 0\n",
    "    first_bit = f\"{random.randint(0, 1)}\"\n",
    "    signal = [\"0\"]*length\n",
    "    signal[0] = first_bit\n",
    "    for i in range(1,length):\n",
    "        signal[i] = signal[i-1] if random.random() < auto_correlation else f\"{1-int(signal[i-1])}\"\n",
    "    return ''.join(signal)\n",
    "    \n",
    "STRINGS_TO_CHECK = [\n",
    "    \"0\",\"1\",\"01\",\"10\",\"11\", \"100\", \"101\", \"110\", \"111\",\n",
    "    \"010101010101\", \"0000000000\", \"1111111111\", \n",
    "    \"010101010101\"*100, \"0000000000\"*100, \"1111111111\"*100, \n",
    "]\n",
    "STRINGS_TO_CHECK += [gen_signal(1000, random.random()) for _ in range(1000)]\n",
    "\n",
    "for name, btt, ttb in ENCODINGS:\n",
    "    for original_string in STRINGS_TO_CHECK:\n",
    "        decoded = ttb(btt(original_string))\n",
    "        assert decoded == original_string, f\"'{name}' failed: '{original_string}' != '{decoded}'\"\n",
    "    print(f\"{name} OK\")\n"
   ]
  },
  {
   "cell_type": "markdown",
   "metadata": {},
   "source": [
    "#### Performance of the algorithm"
   ]
  },
  {
   "cell_type": "code",
   "execution_count": null,
   "metadata": {},
   "outputs": [],
   "source": []
  }
 ],
 "metadata": {
  "kernelspec": {
   "display_name": "Python 3",
   "language": "python",
   "name": "python3"
  },
  "language_info": {
   "codemirror_mode": {
    "name": "ipython",
    "version": 3
   },
   "file_extension": ".py",
   "mimetype": "text/x-python",
   "name": "python",
   "nbconvert_exporter": "python",
   "pygments_lexer": "ipython3",
   "version": "3.11.2"
  },
  "orig_nbformat": 4
 },
 "nbformat": 4,
 "nbformat_minor": 2
}
