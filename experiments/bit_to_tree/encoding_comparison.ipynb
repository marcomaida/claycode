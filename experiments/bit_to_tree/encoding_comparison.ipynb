{
 "cells": [
  {
   "cell_type": "markdown",
   "metadata": {},
   "source": [
    "# Encoding comparison\n",
    "\n",
    "This notebook contains a side-by-side evaluation of different bit-to-tree encodings"
   ]
  },
  {
   "cell_type": "code",
   "execution_count": null,
   "metadata": {},
   "outputs": [],
   "source": [
    "import sys\n",
    "sys.path.append('../')\n",
    "sys.setrecursionlimit(5000) # Croissant\n",
    "\n",
    "import plotly.graph_objects as go\n",
    "import numpy as np\n",
    "import math\n",
    "import plotly.express as px\n",
    "import random\n",
    "\n",
    "from tree_lib.encodings import two_choices\n",
    "from tree_lib.encodings import counting_ones\n",
    "from tree_lib.encodings import counting_ones_leaves"
   ]
  },
  {
   "cell_type": "markdown",
   "metadata": {},
   "source": [
    "#### 0 - Utils"
   ]
  },
  {
   "cell_type": "code",
   "execution_count": null,
   "metadata": {},
   "outputs": [],
   "source": [
    "\n",
    "# Generate random bit string, given the probability of picking one\n",
    "# `p_of_one = 0`   => constant zero\n",
    "# `p_of_one = 0.5` => pure random\n",
    "# `p_of_one = 0.9` => mostly ones\n",
    "# `p_of_one = 1`   => All ones\n",
    "def gen_bit_string(length, p_of_one=0.5): \n",
    "    assert 0 <= p_of_one and p_of_one <= 1\n",
    "    return ''.join(np.random.choice([\"0\",\"1\"], length, p=[1-p_of_one, p_of_one]))\n",
    "\n",
    "# Generate random bit string, given the \"auto-correlation with lag 1\"\n",
    "# Autocorrelation represents the degree of similarity between a \n",
    "# given time series and a lagged version of itself over successive time intervals.\n",
    "# `auto_correlation = 0`   => perfectly alternating \n",
    "# `auto_correlation = 0.5` => pure random\n",
    "# `auto_correlation = 1`   => constant string\n",
    "def gen_bit_string_with_autocorrelation(length, auto_correlation=0.5): # 0.5 = random\n",
    "    assert 0 <= auto_correlation <= 1 and length > 0\n",
    "    signal = [\"0\"]*length\n",
    "    signal[0] = random.choice(\"01\")\n",
    "    for i in range(1,length):\n",
    "        is_same_as_previous = random.random() < auto_correlation\n",
    "        signal[i] = signal[i-1] if is_same_as_previous else f\"{1-int(signal[i-1])}\"\n",
    "    return ''.join(signal)"
   ]
  },
  {
   "cell_type": "markdown",
   "metadata": {},
   "source": [
    "#### 1 - Define encodings to compare"
   ]
  },
  {
   "cell_type": "code",
   "execution_count": null,
   "metadata": {},
   "outputs": [],
   "source": [
    "ENCODINGS = [\n",
    "    [\"two_choices\", two_choices.bits_to_tree, two_choices.tree_to_bits],\n",
    "    [\"counting_ones\", counting_ones.bits_to_tree, counting_ones.tree_to_bits],\n",
    "    [\"counting_ones_leaves\", counting_ones_leaves.bits_to_tree, counting_ones_leaves.tree_to_bits],\n",
    "    ]"
   ]
  },
  {
   "cell_type": "markdown",
   "metadata": {},
   "source": [
    "#### 2. Quick check for correctness"
   ]
  },
  {
   "cell_type": "code",
   "execution_count": null,
   "metadata": {},
   "outputs": [],
   "source": [
    "\n",
    "STRINGS_TO_CHECK = [\n",
    "    \"0\",\"1\",\"01\",\"10\",\"11\", \"100\", \"101\", \"110\", \"111\",     # basic\n",
    "    \"010101010101\", \"0000000000\", \"1111111111\",             # something more complex\n",
    "    \"010101010101\"*100, \"0000000000\"*100, \"1111111111\"*100, # long strings\n",
    "]\n",
    "STRINGS_TO_CHECK += [gen_bit_string(500) for _ in range(500)]\n",
    "\n",
    "for name, btt, ttb in ENCODINGS:\n",
    "    for original_string in STRINGS_TO_CHECK:\n",
    "        decoded = ttb(btt(original_string))\n",
    "        assert decoded == original_string, f\"'{name}' failed: '{original_string}' != '{decoded}'\"\n",
    "    print(f\"{name} OK\")\n"
   ]
  },
  {
   "cell_type": "markdown",
   "metadata": {},
   "source": [
    "#### 3. Generate dataset\n"
   ]
  },
  {
   "cell_type": "code",
   "execution_count": null,
   "metadata": {},
   "outputs": [],
   "source": [
    "import plotly.express as px\n",
    "import pandas as pd\n",
    "\n",
    "BIT_STRING_LENGTHS = [10, 50, 100, 200, 500, 700, 1000, 2000]\n",
    "AUTO_CORRELATIONS = [0., .1, .2, .3, .4, .5, .6, .7, .8, .9, 1.]\n",
    "SAMPLES_PER_STRING_TYPE = 10\n",
    "\n",
    "def dataset_for_encoding (encoding_name, bit_to_tree_fun): \n",
    "    # Generate random bit strings with various properties\n",
    "    bit_strings = [gen_bit_string(length) \n",
    "                        for length in BIT_STRING_LENGTHS \n",
    "                        for _ in range(SAMPLES_PER_STRING_TYPE)]\n",
    "    bit_strings += [gen_bit_string_with_autocorrelation(length, ac) \n",
    "                        for length in BIT_STRING_LENGTHS \n",
    "                        for ac in AUTO_CORRELATIONS \n",
    "                        for _ in range(SAMPLES_PER_STRING_TYPE)]\n",
    "    \n",
    "    # Given a bit string, generate a data point\n",
    "    # [encoding name, length, num nodes]\n",
    "    def data_point(bit_str):\n",
    "        tree = bit_to_tree_fun(bit_str)\n",
    "        str_len = len(bit_str)\n",
    "        perc_of_ones = bit_str.count('1') / str_len\n",
    "        return [encoding_name, str_len, perc_of_ones, tree.n_descendants]\n",
    "    \n",
    "    return [data_point(bit_str) for bit_str in bit_strings]\n",
    "\n",
    "dataset = []\n",
    "for encoding_name, btt, _ in ENCODINGS:\n",
    "    dataset += dataset_for_encoding(encoding_name, btt)\n",
    "\n",
    "df = pd.DataFrame(dataset, columns=['Encoding', 'Bits', 'PercOfOnes', 'Nodes']) \n",
    "df\n"
   ]
  },
  {
   "cell_type": "markdown",
   "metadata": {},
   "source": [
    "#### 4. Reports"
   ]
  },
  {
   "cell_type": "code",
   "execution_count": null,
   "metadata": {},
   "outputs": [],
   "source": [
    "fig = px.box(df, x=\"Bits\", y=\"Nodes\", color=\"Encoding\", \n",
    "             title=\"Bits vs Number Nodes, Entire Dataset\")\n",
    "fig.show()\n",
    "\n",
    "df_500 = df[df['Bits'] == 500] # TODO probably need to work more on DB, there is too much data for 0.5 per of ones \n",
    "fig = px.box(df_500, x=\"PercOfOnes\", y=\"Nodes\", color=\"Encoding\", \n",
    "             title=\"Percentage of Ones vs Num Nodes, 500 Bits\")\n",
    "fig.show()"
   ]
  }
 ],
 "metadata": {
  "kernelspec": {
   "display_name": "Python 3",
   "language": "python",
   "name": "python3"
  },
  "language_info": {
   "codemirror_mode": {
    "name": "ipython",
    "version": 3
   },
   "file_extension": ".py",
   "mimetype": "text/x-python",
   "name": "python",
   "nbconvert_exporter": "python",
   "pygments_lexer": "ipython3",
   "version": "3.10.11"
  },
  "orig_nbformat": 4
 },
 "nbformat": 4,
 "nbformat_minor": 2
}
