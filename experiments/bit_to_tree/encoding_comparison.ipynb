{
 "cells": [
  {
   "cell_type": "markdown",
   "metadata": {},
   "source": [
    "# Encoding comparison\n",
    "\n",
    "This notebook contains a side-by-side evaluation of different bit-to-tree encodings"
   ]
  },
  {
   "cell_type": "code",
   "execution_count": 1,
   "metadata": {},
   "outputs": [],
   "source": [
    "import sys\n",
    "sys.path.append('../')\n",
    "sys.setrecursionlimit(10000) # Croissant\n",
    "\n",
    "import numpy as np\n",
    "import math\n",
    "import plotly.express as px\n",
    "import pandas as pd\n",
    "from func_timeout import func_timeout, FunctionTimedOut\n",
    "import traceback\n",
    "\n",
    "from tree_lib.tree import TreeNode\n",
    "from tree_lib.encodings import two_choices, two_choices_one_two, counting_ones, counting_ones_leaves, fibonaccio, tuples, square, cube, entropy, power_digits, power_digits_2\n",
    "import tree_lib.util as util"
   ]
  },
  {
   "cell_type": "markdown",
   "metadata": {},
   "source": [
    "#### 1 - Define encodings to compare"
   ]
  },
  {
   "cell_type": "code",
   "execution_count": 2,
   "metadata": {},
   "outputs": [],
   "source": [
    "ENCODINGS_UNFILTERED = [\n",
    "    [\"two_choices\", two_choices.bits_to_tree, two_choices.tree_to_bits],\n",
    "    # [\"two_choices_one_two\", two_choices_one_two.bits_to_tree, two_choices_one_two.tree_to_bits],\n",
    "    [\"two_choices_wrap\", two_choices.bits_to_tree_wrap, None],\n",
    "    [\"two_choices_mark\", two_choices.bits_to_tree_mark, None],\n",
    "    # [\"two_choices_k=9\", lambda s: two_choices.bits_to_tree_k(s, 9), None],\n",
    "    # [\"counting_ones_leaves\", counting_ones_leaves.bits_to_tree, counting_ones_leaves.tree_to_bits],\n",
    "    # [\"fibonaccio\", fibonaccio.bits_to_tree, fibonaccio.tree_to_bits],\n",
    "    # [\"power_digits\", power_digits.bits_to_tree, power_digits.tree_to_bits],\n",
    "    # [\"power_digits_2\", power_digits_2.bits_to_tree, power_digits_2.tree_to_bits],\n",
    "    [\"tuples\", tuples.bits_to_tree, tuples.tree_to_bits],\n",
    "    [\"square\", square.bits_to_tree, square.tree_to_bits],\n",
    "    # [\"cube\", cube.bits_to_tree, cube.tree_to_bits],\n",
    "    [\"entropy\", entropy.bits_to_tree, entropy.tree_to_bits],\n",
    "    ]"
   ]
  },
  {
   "cell_type": "markdown",
   "metadata": {},
   "source": [
    "#### 2. Check for correctness"
   ]
  },
  {
   "cell_type": "code",
   "execution_count": 3,
   "metadata": {},
   "outputs": [
    {
     "ename": "KeyboardInterrupt",
     "evalue": "",
     "output_type": "error",
     "traceback": [
      "\u001b[0;31m---------------------------------------------------------------------------\u001b[0m",
      "\u001b[0;31mKeyboardInterrupt\u001b[0m                         Traceback (most recent call last)",
      "\u001b[1;32m/Users/mmaida/Desktop/claycode/experiments/bit_to_tree/encoding_comparison.ipynb Cell 6\u001b[0m line \u001b[0;36m3\n\u001b[1;32m     <a href='vscode-notebook-cell:/Users/mmaida/Desktop/claycode/experiments/bit_to_tree/encoding_comparison.ipynb#Y222sZmlsZQ%3D%3D?line=26'>27</a>\u001b[0m         \u001b[39mprint\u001b[39m(traceback\u001b[39m.\u001b[39mformat_exc())\n\u001b[1;32m     <a href='vscode-notebook-cell:/Users/mmaida/Desktop/claycode/experiments/bit_to_tree/encoding_comparison.ipynb#Y222sZmlsZQ%3D%3D?line=27'>28</a>\u001b[0m         \u001b[39mreturn\u001b[39;00m \u001b[39mf\u001b[39m\u001b[39m\"\u001b[39m\u001b[39m🧨️️️️️️ \u001b[39m\u001b[39m{\u001b[39;00me\u001b[39m}\u001b[39;00m\u001b[39m\"\u001b[39m\n\u001b[0;32m---> <a href='vscode-notebook-cell:/Users/mmaida/Desktop/claycode/experiments/bit_to_tree/encoding_comparison.ipynb#Y222sZmlsZQ%3D%3D?line=29'>30</a>\u001b[0m results \u001b[39m=\u001b[39m [[name, \n\u001b[1;32m     <a href='vscode-notebook-cell:/Users/mmaida/Desktop/claycode/experiments/bit_to_tree/encoding_comparison.ipynb#Y222sZmlsZQ%3D%3D?line=30'>31</a>\u001b[0m             string_test(BASIC_STRINGS, name, btt, ttb), \n\u001b[1;32m     <a href='vscode-notebook-cell:/Users/mmaida/Desktop/claycode/experiments/bit_to_tree/encoding_comparison.ipynb#Y222sZmlsZQ%3D%3D?line=31'>32</a>\u001b[0m             string_test(LONG_STRINGS, name, btt, ttb),\n\u001b[1;32m     <a href='vscode-notebook-cell:/Users/mmaida/Desktop/claycode/experiments/bit_to_tree/encoding_comparison.ipynb#Y222sZmlsZQ%3D%3D?line=32'>33</a>\u001b[0m             string_test(BASIC_STRINGS\u001b[39m+\u001b[39;49mLONG_STRINGS, name, btt, ttb, \u001b[39mTrue\u001b[39;49;00m),] \n\u001b[1;32m     <a href='vscode-notebook-cell:/Users/mmaida/Desktop/claycode/experiments/bit_to_tree/encoding_comparison.ipynb#Y222sZmlsZQ%3D%3D?line=33'>34</a>\u001b[0m             \u001b[39mfor\u001b[39;49;00m name, btt, ttb \u001b[39min\u001b[39;49;00m ENCODINGS_UNFILTERED]\n\u001b[1;32m     <a href='vscode-notebook-cell:/Users/mmaida/Desktop/claycode/experiments/bit_to_tree/encoding_comparison.ipynb#Y222sZmlsZQ%3D%3D?line=35'>36</a>\u001b[0m df \u001b[39m=\u001b[39m pd\u001b[39m.\u001b[39mDataFrame(results, columns\u001b[39m=\u001b[39m[\u001b[39m'\u001b[39m\u001b[39mName\u001b[39m\u001b[39m'\u001b[39m, \u001b[39m'\u001b[39m\u001b[39mBasic Test\u001b[39m\u001b[39m'\u001b[39m, \u001b[39m\"\u001b[39m\u001b[39mLong Strings\u001b[39m\u001b[39m\"\u001b[39m, \u001b[39m\"\u001b[39m\u001b[39mUnordered\u001b[39m\u001b[39m\"\u001b[39m])\n\u001b[1;32m     <a href='vscode-notebook-cell:/Users/mmaida/Desktop/claycode/experiments/bit_to_tree/encoding_comparison.ipynb#Y222sZmlsZQ%3D%3D?line=37'>38</a>\u001b[0m \u001b[39m# Discard encodings that do not work\u001b[39;00m\n",
      "\u001b[1;32m/Users/mmaida/Desktop/claycode/experiments/bit_to_tree/encoding_comparison.ipynb Cell 6\u001b[0m line \u001b[0;36m3\n\u001b[1;32m     <a href='vscode-notebook-cell:/Users/mmaida/Desktop/claycode/experiments/bit_to_tree/encoding_comparison.ipynb#Y222sZmlsZQ%3D%3D?line=26'>27</a>\u001b[0m         \u001b[39mprint\u001b[39m(traceback\u001b[39m.\u001b[39mformat_exc())\n\u001b[1;32m     <a href='vscode-notebook-cell:/Users/mmaida/Desktop/claycode/experiments/bit_to_tree/encoding_comparison.ipynb#Y222sZmlsZQ%3D%3D?line=27'>28</a>\u001b[0m         \u001b[39mreturn\u001b[39;00m \u001b[39mf\u001b[39m\u001b[39m\"\u001b[39m\u001b[39m🧨️️️️️️ \u001b[39m\u001b[39m{\u001b[39;00me\u001b[39m}\u001b[39;00m\u001b[39m\"\u001b[39m\n\u001b[1;32m     <a href='vscode-notebook-cell:/Users/mmaida/Desktop/claycode/experiments/bit_to_tree/encoding_comparison.ipynb#Y222sZmlsZQ%3D%3D?line=29'>30</a>\u001b[0m results \u001b[39m=\u001b[39m [[name, \n\u001b[1;32m     <a href='vscode-notebook-cell:/Users/mmaida/Desktop/claycode/experiments/bit_to_tree/encoding_comparison.ipynb#Y222sZmlsZQ%3D%3D?line=30'>31</a>\u001b[0m             string_test(BASIC_STRINGS, name, btt, ttb), \n\u001b[0;32m---> <a href='vscode-notebook-cell:/Users/mmaida/Desktop/claycode/experiments/bit_to_tree/encoding_comparison.ipynb#Y222sZmlsZQ%3D%3D?line=31'>32</a>\u001b[0m             string_test(LONG_STRINGS, name, btt, ttb),\n\u001b[1;32m     <a href='vscode-notebook-cell:/Users/mmaida/Desktop/claycode/experiments/bit_to_tree/encoding_comparison.ipynb#Y222sZmlsZQ%3D%3D?line=32'>33</a>\u001b[0m             string_test(BASIC_STRINGS\u001b[39m+\u001b[39mLONG_STRINGS, name, btt, ttb, \u001b[39mTrue\u001b[39;00m),] \n\u001b[1;32m     <a href='vscode-notebook-cell:/Users/mmaida/Desktop/claycode/experiments/bit_to_tree/encoding_comparison.ipynb#Y222sZmlsZQ%3D%3D?line=33'>34</a>\u001b[0m             \u001b[39mfor\u001b[39;00m name, btt, ttb \u001b[39min\u001b[39;00m ENCODINGS_UNFILTERED]\n\u001b[1;32m     <a href='vscode-notebook-cell:/Users/mmaida/Desktop/claycode/experiments/bit_to_tree/encoding_comparison.ipynb#Y222sZmlsZQ%3D%3D?line=35'>36</a>\u001b[0m df \u001b[39m=\u001b[39m pd\u001b[39m.\u001b[39mDataFrame(results, columns\u001b[39m=\u001b[39m[\u001b[39m'\u001b[39m\u001b[39mName\u001b[39m\u001b[39m'\u001b[39m, \u001b[39m'\u001b[39m\u001b[39mBasic Test\u001b[39m\u001b[39m'\u001b[39m, \u001b[39m\"\u001b[39m\u001b[39mLong Strings\u001b[39m\u001b[39m\"\u001b[39m, \u001b[39m\"\u001b[39m\u001b[39mUnordered\u001b[39m\u001b[39m\"\u001b[39m])\n\u001b[1;32m     <a href='vscode-notebook-cell:/Users/mmaida/Desktop/claycode/experiments/bit_to_tree/encoding_comparison.ipynb#Y222sZmlsZQ%3D%3D?line=37'>38</a>\u001b[0m \u001b[39m# Discard encodings that do not work\u001b[39;00m\n",
      "\u001b[1;32m/Users/mmaida/Desktop/claycode/experiments/bit_to_tree/encoding_comparison.ipynb Cell 6\u001b[0m line \u001b[0;36m2\n\u001b[1;32m     <a href='vscode-notebook-cell:/Users/mmaida/Desktop/claycode/experiments/bit_to_tree/encoding_comparison.ipynb#Y222sZmlsZQ%3D%3D?line=19'>20</a>\u001b[0m         \u001b[39mreturn\u001b[39;00m \u001b[39mf\u001b[39m\u001b[39m\"\u001b[39m\u001b[39m🤷️️️️️️\u001b[39m\u001b[39m\"\u001b[39m\n\u001b[1;32m     <a href='vscode-notebook-cell:/Users/mmaida/Desktop/claycode/experiments/bit_to_tree/encoding_comparison.ipynb#Y222sZmlsZQ%3D%3D?line=20'>21</a>\u001b[0m     \u001b[39melse\u001b[39;00m:\n\u001b[0;32m---> <a href='vscode-notebook-cell:/Users/mmaida/Desktop/claycode/experiments/bit_to_tree/encoding_comparison.ipynb#Y222sZmlsZQ%3D%3D?line=21'>22</a>\u001b[0m         errors \u001b[39m=\u001b[39m func_timeout(\u001b[39m5.\u001b[39;49m, \u001b[39mlambda\u001b[39;49;00m: [s \u001b[39mfor\u001b[39;49;00m s \u001b[39min\u001b[39;49;00m strings \u001b[39mif\u001b[39;49;00m encode_decode(s) \u001b[39m!=\u001b[39;49m s])\n\u001b[1;32m     <a href='vscode-notebook-cell:/Users/mmaida/Desktop/claycode/experiments/bit_to_tree/encoding_comparison.ipynb#Y222sZmlsZQ%3D%3D?line=22'>23</a>\u001b[0m         \u001b[39mreturn\u001b[39;00m \u001b[39m\"\u001b[39m\u001b[39m✅\u001b[39m\u001b[39m\"\u001b[39m \u001b[39mif\u001b[39;00m \u001b[39mlen\u001b[39m(errors)\u001b[39m==\u001b[39m\u001b[39m0\u001b[39m \u001b[39melse\u001b[39;00m \u001b[39mf\u001b[39m\u001b[39m\"\u001b[39m\u001b[39m🐖️️️️️️ \u001b[39m\u001b[39m{\u001b[39;00merrors[\u001b[39m0\u001b[39m]\u001b[39m}\u001b[39;00m\u001b[39m\"\u001b[39m\n\u001b[1;32m     <a href='vscode-notebook-cell:/Users/mmaida/Desktop/claycode/experiments/bit_to_tree/encoding_comparison.ipynb#Y222sZmlsZQ%3D%3D?line=23'>24</a>\u001b[0m \u001b[39mexcept\u001b[39;00m FunctionTimedOut:\n",
      "File \u001b[0;32m/opt/homebrew/lib/python3.11/site-packages/func_timeout/dafunc.py:86\u001b[0m, in \u001b[0;36mfunc_timeout\u001b[0;34m(timeout, func, args, kwargs)\u001b[0m\n\u001b[1;32m     83\u001b[0m thread\u001b[39m.\u001b[39mdaemon \u001b[39m=\u001b[39m \u001b[39mTrue\u001b[39;00m\n\u001b[1;32m     85\u001b[0m thread\u001b[39m.\u001b[39mstart()\n\u001b[0;32m---> 86\u001b[0m thread\u001b[39m.\u001b[39;49mjoin(timeout)\n\u001b[1;32m     88\u001b[0m stopException \u001b[39m=\u001b[39m \u001b[39mNone\u001b[39;00m\n\u001b[1;32m     89\u001b[0m \u001b[39mif\u001b[39;00m thread\u001b[39m.\u001b[39mis_alive():\n",
      "File \u001b[0;32m/opt/homebrew/Cellar/python@3.11/3.11.2_1/Frameworks/Python.framework/Versions/3.11/lib/python3.11/threading.py:1116\u001b[0m, in \u001b[0;36mThread.join\u001b[0;34m(self, timeout)\u001b[0m\n\u001b[1;32m   1112\u001b[0m     \u001b[39mself\u001b[39m\u001b[39m.\u001b[39m_wait_for_tstate_lock()\n\u001b[1;32m   1113\u001b[0m \u001b[39melse\u001b[39;00m:\n\u001b[1;32m   1114\u001b[0m     \u001b[39m# the behavior of a negative timeout isn't documented, but\u001b[39;00m\n\u001b[1;32m   1115\u001b[0m     \u001b[39m# historically .join(timeout=x) for x<0 has acted as if timeout=0\u001b[39;00m\n\u001b[0;32m-> 1116\u001b[0m     \u001b[39mself\u001b[39;49m\u001b[39m.\u001b[39;49m_wait_for_tstate_lock(timeout\u001b[39m=\u001b[39;49m\u001b[39mmax\u001b[39;49m(timeout, \u001b[39m0\u001b[39;49m))\n",
      "File \u001b[0;32m/opt/homebrew/Cellar/python@3.11/3.11.2_1/Frameworks/Python.framework/Versions/3.11/lib/python3.11/threading.py:1132\u001b[0m, in \u001b[0;36mThread._wait_for_tstate_lock\u001b[0;34m(self, block, timeout)\u001b[0m\n\u001b[1;32m   1129\u001b[0m     \u001b[39mreturn\u001b[39;00m\n\u001b[1;32m   1131\u001b[0m \u001b[39mtry\u001b[39;00m:\n\u001b[0;32m-> 1132\u001b[0m     \u001b[39mif\u001b[39;00m lock\u001b[39m.\u001b[39;49macquire(block, timeout):\n\u001b[1;32m   1133\u001b[0m         lock\u001b[39m.\u001b[39mrelease()\n\u001b[1;32m   1134\u001b[0m         \u001b[39mself\u001b[39m\u001b[39m.\u001b[39m_stop()\n",
      "\u001b[0;31mKeyboardInterrupt\u001b[0m: "
     ]
    }
   ],
   "source": [
    "\n",
    "from func_timeout import func_timeout, FunctionTimedOut\n",
    "\n",
    "BASIC_STRINGS = [\n",
    "    \"0\",\"1\",\"01\",\"10\",\"11\", \"100\", \"101\", \"110\", \"111\",     # basic\n",
    "    \"010101010101\", \"0000000000\", \"1111111111\",             # something more complex\n",
    "]\n",
    "LONG_STRINGS = [util.gen_bit_string(300) for _ in range(300)]\n",
    "\n",
    "def string_test(strings, name, btt, ttb, shuffle=False):\n",
    "    def encode_decode(s):\n",
    "        t = btt(s)\n",
    "        if t is not None and shuffle:\n",
    "            util.shuffle_tree(t)\n",
    "        return ttb(t)\n",
    "\n",
    "    try:\n",
    "        if ttb is None:\n",
    "            # If there is no ttb, try to encode strings only\n",
    "            res = [btt(s) for s in strings]\n",
    "            return f\"🤷️️️️️️\"\n",
    "        else:\n",
    "            errors = func_timeout(5., lambda: [s for s in strings if encode_decode(s) != s])\n",
    "            return \"✅\" if len(errors)==0 else f\"🐖️️️️️️ {errors[0]}\"\n",
    "    except FunctionTimedOut:\n",
    "        return f\"⏰\"\n",
    "    except Exception as e:\n",
    "        print(traceback.format_exc())\n",
    "        return f\"🧨️️️️️️ {e}\"\n",
    "\n",
    "results = [[name, \n",
    "            string_test(BASIC_STRINGS, name, btt, ttb), \n",
    "            string_test(LONG_STRINGS, name, btt, ttb),\n",
    "            string_test(BASIC_STRINGS+LONG_STRINGS, name, btt, ttb, True),] \n",
    "            for name, btt, ttb in ENCODINGS_UNFILTERED]\n",
    "\n",
    "df = pd.DataFrame(results, columns=['Name', 'Basic Test', \"Long Strings\", \"Unordered\"])\n",
    "\n",
    "# Discard encodings that do not work\n",
    "def is_acceptable_result(test_basic,test_long,test_unordered):\n",
    "    return (\"✅\" in test_basic or \"🤷️️️️️\" in test_basic) and \\\n",
    "           (\"✅\" in test_long or \"🤷️️️️️\" in test_long)\n",
    "\n",
    "to_discard = [name for [name, t1, t2, t3] in results if not is_acceptable_result(t1,t2,t3)]\n",
    "if to_discard:\n",
    "    print(f\"\\nDiscarding {to_discard}\")\n",
    "ENCODINGS = [e for e in ENCODINGS_UNFILTERED if e[0] not in to_discard]\n",
    "\n",
    "df\n"
   ]
  },
  {
   "cell_type": "markdown",
   "metadata": {},
   "source": [
    "#### 3. Generate dataset\n"
   ]
  },
  {
   "cell_type": "code",
   "execution_count": null,
   "metadata": {},
   "outputs": [],
   "source": [
    "BIT_STRING_LENGTHS = [100, 300, 500, 700, 900, 1100]\n",
    "PROBABILITY_OF_ONE = [.1, .2, .3, .4, .5, .6, .7, .8, .9]\n",
    "AUTOCORRELATION = [.1, .2, .3, .4, .5, .6, .7, .8, .9]\n",
    "SAMPLES_PER_STRING_TYPE = 10\n",
    "SAMPLES_PER_STRING_TYPE_AC = 3\n",
    "\n",
    "# Build generic random data set with random string. \n",
    "dataset_generic = [util.gen_bit_string(length, prob_of_one) \n",
    "                        for length in BIT_STRING_LENGTHS \n",
    "                        for prob_of_one in PROBABILITY_OF_ONE\n",
    "                        for _ in range(SAMPLES_PER_STRING_TYPE)]\n",
    "\n",
    "# Inject some edge cases (all zeros, all ones)\n",
    "dataset_generic += [util.gen_bit_string(length, prob_of_one) \n",
    "                        for length in BIT_STRING_LENGTHS \n",
    "                        for prob_of_one in [0., 1.]]    \n",
    "\n",
    "\n",
    "dataset_generic += [util.gen_bit_string_with_autocorrelation(length, ac) \n",
    "                        for length in BIT_STRING_LENGTHS \n",
    "                        for ac in AUTOCORRELATION\n",
    "                        for _ in range(SAMPLES_PER_STRING_TYPE_AC)]              \n",
    "\n",
    "def dataset_for_encoding (encoding_name, bit_to_tree_fun): \n",
    "    # Generate random bit strings with various properties\n",
    "    # Given a bit string, generate a data point\n",
    "    # [encoding name, length, num nodes]\n",
    "    def data_point(bit_str):\n",
    "        tree = bit_to_tree_fun(bit_str)\n",
    "        str_len = len(bit_str)\n",
    "        perc_of_ones = bit_str.count('1') / str_len\n",
    "        autocorrelation = util.autocorrelation(bit_str)\n",
    "        return [encoding_name, str_len, perc_of_ones, autocorrelation, tree.n_descendants, tree.weight]\n",
    "    \n",
    "    return [data_point(bit_str) for bit_str in dataset_generic]\n",
    "\n",
    "dataset = []\n",
    "for encoding_name, btt, _ in ENCODINGS:\n",
    "    dataset += dataset_for_encoding(encoding_name, btt)\n",
    "\n",
    "df = pd.DataFrame(dataset, columns=['Encoding', 'Bits', 'PercOfOnes', 'Autocorrelation', 'Nodes', 'Weight']) \n",
    "df\n"
   ]
  },
  {
   "cell_type": "markdown",
   "metadata": {},
   "source": [
    "#### 4. Reports"
   ]
  },
  {
   "cell_type": "code",
   "execution_count": null,
   "metadata": {},
   "outputs": [],
   "source": [
    "fig = px.box(df, x=\"Bits\", y=\"Nodes\", color=\"Encoding\", \n",
    "             title=\"Bits vs Number Nodes, Entire Dataset\")\n",
    "fig.show()\n",
    "\n",
    "fig = px.box(df, x=\"Bits\", y=\"Weight\", color=\"Encoding\", \n",
    "             title=\"Weight vs Number Nodes, Entire Dataset\")\n",
    "fig.show()\n",
    "\n",
    "df_500 = df[df['Bits'] == 500] \n",
    "fig = px.scatter(df_500, x=\"PercOfOnes\", y=\"Nodes\", color=\"Encoding\", \n",
    "             title=\"Percentage of Ones vs Num Nodes, 500 Bits\")\n",
    "fig.show()\n",
    "\n",
    "fig = px.scatter(df_500, x=\"Autocorrelation\", y=\"Nodes\", color=\"Encoding\", \n",
    "             title=\"Autocorrelation vs Num Nodes, 500 Bits\")\n",
    "fig.show()\n"
   ]
  },
  {
   "cell_type": "markdown",
   "metadata": {},
   "source": [
    "#### [EXPERIMENTAL] Check optimality"
   ]
  },
  {
   "cell_type": "code",
   "execution_count": null,
   "metadata": {},
   "outputs": [],
   "source": [
    "GEN_TREE_MAX_NODES = 20\n",
    "\n",
    "decode_data = []\n",
    "for encoding_name, _, ttb in ENCODINGS:\n",
    "    decode_data.append({\n",
    "        \"encoding_name\": encoding_name,\n",
    "        \"decode_fun\": ttb,\n",
    "        \"decoded_strings\": set(), # Hashumapo\n",
    "        \"failed_decodings\": 0,\n",
    "        \"duplicate_decodings\": 0,\n",
    "        \"attempted_decodings\": 0,\n",
    "    })\n",
    "\n",
    "def try_decode(root, decode_data):\n",
    "    for data in decode_data:\n",
    "        data[\"attempted_decodings\"] += 1\n",
    "        try:\n",
    "            decoded_string = data[\"decode_fun\"](root)\n",
    "\n",
    "            if decoded_string in data[\"decoded_strings\"]:\n",
    "                data[\"duplicate_decodings\"] += 1\n",
    "            data[\"decoded_strings\"].add(decoded_string)\n",
    "        except:\n",
    "            data[\"failed_decodings\"] += 1\n",
    "\n",
    "def trees_with_n_nodes(n):\n",
    "    def catalan_number(n):\n",
    "        return math.comb(n*2, n) // (n + 1)\n",
    "    return sum((catalan_number(i) for i in range(n+1)))\n"
   ]
  },
  {
   "cell_type": "code",
   "execution_count": null,
   "metadata": {},
   "outputs": [],
   "source": [
    "# def decode_all_trees(target_count, decode_data):\n",
    "#     root = TreeNode()\n",
    "#     n_tree_generated = 0\n",
    "\n",
    "#     def gen_tree(node, curr_node_count):\n",
    "#         nonlocal n_tree_generated\n",
    "#         n_tree_generated += 1\n",
    "\n",
    "#         try_decode(root, decode_data) # Try all decoding strategies\n",
    "\n",
    "#         # Max possible children\n",
    "#         new_children = []\n",
    "#         for i in range(target_count - curr_node_count):\n",
    "#             new_child = TreeNode()\n",
    "#             new_children.append(new_child)\n",
    "#             node.children = new_children\n",
    "#             gen_tree(new_child, curr_node_count + i + 1)\n",
    "\n",
    "#         node.children = [] # Pop all children to backtrack\n",
    "\n",
    "#     gen_tree(root, 0)\n",
    "#     # TODO Fix algorithm\n",
    "#     # assert n_tree_generated == trees_with_n_nodes(target_count)\n",
    "\n",
    "# decode_all_trees(GEN_TREE_MAX_NODES, decode_data)\n",
    "\n",
    "# df_dec = pd.DataFrame(decode_data, columns=[\"encoding_name\", \"failed_decodings\", \"duplicate_decodings\", \"attempted_decodings\"])\n",
    "# df_dec[\"duplicate_rate\"] = df_dec[\"duplicate_decodings\"] / df_dec[\"attempted_decodings\"]\n",
    "# df_dec[\"failure_rate\"] = df_dec[\"failed_decodings\"] / df_dec[\"attempted_decodings\"]\n",
    "# df_dec\n"
   ]
  }
 ],
 "metadata": {
  "kernelspec": {
   "display_name": "Python 3",
   "language": "python",
   "name": "python3"
  },
  "language_info": {
   "codemirror_mode": {
    "name": "ipython",
    "version": 3
   },
   "file_extension": ".py",
   "mimetype": "text/x-python",
   "name": "python",
   "nbconvert_exporter": "python",
   "pygments_lexer": "ipython3",
   "version": "3.10.11"
  },
  "orig_nbformat": 4
 },
 "nbformat": 4,
 "nbformat_minor": 2
}
