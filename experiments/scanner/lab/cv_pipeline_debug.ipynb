{
 "cells": [
  {
   "attachments": {},
   "cell_type": "markdown",
   "metadata": {},
   "source": [
    "# Visualizing pipelines of filters "
   ]
  },
  {
   "cell_type": "code",
   "execution_count": null,
   "metadata": {},
   "outputs": [],
   "source": [
    "import plotly.express as px\n",
    "from plotly.subplots import make_subplots\n",
    "import numpy as np\n",
    "import cv2\n",
    "from glob import glob\n",
    "\n",
    "pipelines = {\n",
    "    \"Standard\" : [\n",
    "        lambda img : cv2.cvtColor(img, cv2.COLOR_BGR2RGB), # Warning: original pipeline skips this step!\n",
    "        lambda img : cv2.cvtColor(img, cv2.COLOR_RGBA2RGB),\n",
    "        lambda img : cv2.cvtColor(img, cv2.COLOR_BGR2GRAY),\n",
    "        lambda img : cv2.threshold(img,127,255,cv2.THRESH_BINARY)[1],\n",
    "        # lambda img : cv2.findContours(img, mode=cv2.RETR_TREE, method=cv2.CHAIN_APPROX_SIMPLE), # This filter is a no-op\n",
    "    ],\n",
    "    # \"Legacy pipeline\" : [\n",
    "    #     lambda img : cv2.cvtColor(img, cv2.COLOR_BGR2RGB),\n",
    "    #     lambda img : cv2.pyrMeanShiftFiltering(img, sp=10, sr=100),\n",
    "    #     lambda img : cv2.cvtColor(img, cv2.COLOR_BGR2GRAY),\n",
    "    #     lambda img : cv2.threshold(img,127,255,cv2.THRESH_BINARY)[1],\n",
    "    # ],\n",
    "}\n",
    "\n",
    "original_image_names = glob(\"dataset_cc2/*\")\n",
    "original_images = [cv2.imread(x) for x in original_image_names]\n",
    "\n",
    "row_cnt = max([len(pipeline) for pipeline in pipelines.values()]) + 1\n",
    "col_cnt = len(pipelines)*len(original_images)\n",
    "padding = 100\n",
    "avg_img_size = 200\n",
    "fig_height = row_cnt*avg_img_size + padding*(row_cnt+1)\n",
    "fig_width = col_cnt*avg_img_size + padding*(col_cnt+1)\n",
    "\n",
    "fig = make_subplots(\n",
    "    rows=row_cnt,\n",
    "    cols=col_cnt,\n",
    "    column_titles = [\n",
    "        f\"{pipeline_name}<br>{image_name.split('/')[1]}\"\n",
    "        for image_name in original_image_names\n",
    "        for pipeline_name in pipelines.keys()\n",
    "    ])\n",
    "\n",
    "for image_idx, original_image in enumerate(original_images):\n",
    "    for pipeline_idx, (_, pipeline) in enumerate(pipelines.items()):\n",
    "        intermediates = [np.copy(original_image)]\n",
    "        for filter in pipeline:\n",
    "            intermediates.append(filter(intermediates[-1]))\n",
    "\n",
    "        for intermediate_idx, img in enumerate(intermediates):\n",
    "            processed_img_cnt = image_idx*len(pipelines)\n",
    "            fig.add_trace(\n",
    "                px.imshow(img).data[0],\n",
    "                row = 1 + intermediate_idx,\n",
    "                col = 1 + processed_img_cnt + pipeline_idx)\n",
    "\n",
    "fig.update_xaxes(visible=False, showticklabels=False)\n",
    "fig.update_yaxes(visible=False, showticklabels=False)\n",
    "fig.update_coloraxes(showscale=False)\n",
    "fig.update_layout(height=fig_height, width=fig_width)\n",
    "fig.show()"
   ]
  }
 ],
 "metadata": {
  "kernelspec": {
   "display_name": "Python 3",
   "language": "python",
   "name": "python3"
  },
  "language_info": {
   "codemirror_mode": {
    "name": "ipython",
    "version": 3
   },
   "file_extension": ".py",
   "mimetype": "text/x-python",
   "name": "python",
   "nbconvert_exporter": "python",
   "pygments_lexer": "ipython3",
   "version": "3.10.11"
  },
  "orig_nbformat": 4
 },
 "nbformat": 4,
 "nbformat_minor": 2
}
